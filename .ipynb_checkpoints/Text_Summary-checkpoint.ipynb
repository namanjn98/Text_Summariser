{
 "cells": [
  {
   "cell_type": "markdown",
   "metadata": {},
   "source": [
    "# Implementation of LEX-Rank algorithm for Text Summarisation"
   ]
  },
  {
   "cell_type": "code",
   "execution_count": 1,
   "metadata": {},
   "outputs": [],
   "source": [
    "import nltk\n",
    "import networkx as nx\n",
    "from sklearn.feature_extraction.text import TfidfVectorizer\n",
    "from nltk.corpus import stopwords\n",
    "import numpy as np\n",
    "import pprint\n",
    "import string\n",
    "import re\n",
    "import copy\n",
    "\n",
    "stop_words = set(stopwords.words('english'))"
   ]
  },
  {
   "cell_type": "markdown",
   "metadata": {},
   "source": [
    "## Text - News Article\n",
    "\n",
    "Link: https://scroll.in/article/902847/linguistic-politics-poll-promise-of-english-medium-education-in-telangana-marks-a-significant-shift"
   ]
  },
  {
   "cell_type": "code",
   "execution_count": 2,
   "metadata": {},
   "outputs": [],
   "source": [
    "text = 'It is an irony that has taken all of 66 years to evolve. On October 19, 1952, the Gandhian Potti Sriramulu went on a hunger strike to demand a separate state for Telugu speakers. His fast was a reminder to the ruling Congress to fulfil its decades-old promise of establishing, as far as possible, homogeneous linguistic states in post-Independence India. Sriramulu died 58 days later, triggering an uproar that eventually led to the carving out of Andhra Pradesh from Madras in 1956. In 2018, the Bahujan Left Front, an emerging political formation in Telangana, which was carved out of Andhra Pradesh as a separate state in 2014, has promised in its election manifesto to introduce “English-medium instruction in schools along with Telugu” from lower kindergarten to Class 12. Telangana will vote on December 7 to choose its new Assembly, the results will be out on December 11. The wheel of linguistic politics has possibly come full circle. Indeed, the Bahujan Left Front’s manifesto is a reflection of the gradual change in priorities of the Telugu people from the time of Sriramulu. From the late 1990s, the rise of the Information Technology industry and the economic mobility it offered led to the atavistic Telugu pride of the 1950s segueing into a demand for English medium schools even before Telangana was born. Recognising this changing reality, in 2008, Andhra Pradesh Chief Minister YS Rajasekhara Reddy identified 6,500 government schools for SUCCESS – short for the government’s Strengthening and Universalisation of Quality and Access to Secondary Schools programme. These schools offered both Telugu and English as the medium of instruction to students from Class 6, when classes were split into two sections. Yet the children found the going extremely tough. Their vocabulary was insufficiently developed to switch over to English in Class 6 and, worse, English books were not made available. “There were also protests from teachers because they had been trained to teach in Telugu alone,” said N Narayana, convenor, Centre for Educational Research and Analysis, who provided inputs for the Bahujan Left Front’s manifesto. “They were neither willing nor suited for teaching in English.” As Success schools stumbled, the rush towards private English-medium schools continued unabated. For instance, the enrolment in government schools of Yellareddypet Mandal, in Rajanna Siricilla district, which is in now in Telangana, dwindled so alarmingly between 2008 and 2010 that Manku Rajaiah, the mandal educational officer, organised village meetings to fathom the craze among parents for English-medium schools. “It was very clear that parents wanted English as the medium of instruction from the primary level itself,” Rajaiah said. It was consequently decided to introduce English as the medium of instruction in those primary schools of Yellareddypet where the local community was willing to provide support. As many as 33 primary schools here adopted English as the medium of instruction. The rise in enrollment was instantaneous even though the certificate issued to students said they had been instructed in Telugu. This was because the primary schools did not have the autonomy to adopt English as the medium of instruction until 2014. “Our initiative’s impact was such that three out of the five success schools in our Mandal are now solely English medium,” said Rajaiah. “The other two have both Telugu and English as mediums of instruction.” Yellareddypet’s initiative was an exception. Therefore it did not come as a surprise that in 2015, a year after Telangana became a separate state, The Hindu reported the closure of many Success schools in Karimnagar and Nalgonda districts. This meant that they reverted to being exclusively Telugu medium schools. Today, an estimated 1,800 Success schools are functioning in Telangana, which has nearly 30,000 government schools. Given Telangana’s evident passion for English, it is understandable why the Bahujan Left Front has reversed the dominant norm in India’s electoral politics – of parties competing with each other to accord primacy to the regional languages. “It is sheer hypocrisy,” said G Ramulu, the coordinator of the Bahujan Left Front, who played a key role in writing its manifesto. “Those in the political class who speak of promoting Telugu send their own children to English-medium schools.” As Ramulu sees it, there is a rising quest among the lower castes and classes to send their children to English-medium schools. “Even the daily wage labourer wants English education for his children,” said Ramulu. “The only way the children of lower classes and castes can hope to compete with those of the ruling class is by studying in English.” English has become the rallying flag of the Bahujan Left Front because of the nature of its support base. A conglomeration of 28 minor political parties that is spearheaded by the Communist Party of India (Marxist), the Bahujan Left Front is the political arm, so to speak, of the Telangana Mass and Social Organisations, popularly known as T-Mass, which has the scholar Kancha Ilaiah as its chairman. Formed in July 2017, T-Mass has brought together 280 social organisations consisting of Ambedkarites or followers of Dr BR Ambedkar, Phuleites or votaries of Jyotirao Phule, and Marxists or those whose inspiration is Karl Marx. Anchored in the interests of Dalits, Other Backward Classes and religious minorities, T-Mass seeks to unite the Ambedkarites and communists, who have been engaged for decades in bruising debates whether caste or class is the principal faultline in India’s politics. “Our idea is to create the Ambedkarite-communist development model as the new alternative for the country,” said Ilaiah. “It is because of the dominant Nehruvian Brahminical ideology that India is the only democratic country where there are parallel systems of education having two different mediums of instruction.” There is the private sector, where the medium of instruction is overwhelmingly English. Regional languages are confined to the public sector. The dual system has enabled the middle class-upper castes to monopolise English, appropriate jobs commanding power, wealth and status, and establish their political dominance. Radical change cannot take place until the lower castes break this group’s monopoly over English, say Bahujan Left Front leaders. Ilaiah said that even the wealthy agrarian Shudra community did not send their children to English-medium schools because these were not located near their homes. Nor did anyone try to inculcate in them the consciousness of studying in English. “In ancient India, Brahmins debarred others from studying Sanskrit,” said Ilaiah. “In the modern era, through the system of parallel mediums of instruction, they are saying the lower castes cannot learn English.” Even though the Bahujan Left Front’s manifesto too provides for both English and Telugu mediums of instruction, its blueprint is a departure from the current system. It offers English as the medium of instruction from lower kindergarten, not from Class 6, and also promises it in every government school, not just where the dual system operates. “It is certainly better both for teachers and students to have English as the medium of instruction from lower kindergarten than to switch to it in Class 6,” said Narayana.'"
   ]
  },
  {
   "cell_type": "markdown",
   "metadata": {},
   "source": [
    "### Preprocessing"
   ]
  },
  {
   "cell_type": "code",
   "execution_count": 3,
   "metadata": {},
   "outputs": [],
   "source": [
    "text_orig = copy.deepcopy(text)\n",
    "text_lst_init =  re.split('; |\\!|\\?|\\.',text_orig)\n",
    "\n",
    "temp_in = []\n",
    "for i in text_lst_init:\n",
    "    if len(i) > 5:\n",
    "        temp_in.append(i)\n",
    "\n",
    "text_lst_init = temp_in\n",
    "\n",
    "\n",
    "text = re.sub(\"\\d+?\\d*(?=\\s|,|s|.)\\s?\", \"\", text)"
   ]
  },
  {
   "cell_type": "code",
   "execution_count": 4,
   "metadata": {},
   "outputs": [],
   "source": [
    "printable = set(string.printable)\n",
    "text = filter(lambda x: x in printable, text)\n",
    "text = text.replace(',','')\n",
    "text = text.replace('  ',' ')"
   ]
  },
  {
   "cell_type": "code",
   "execution_count": 5,
   "metadata": {},
   "outputs": [],
   "source": [
    "text_lst = re.split('; |\\!|\\?|\\.',text)"
   ]
  },
  {
   "cell_type": "code",
   "execution_count": 6,
   "metadata": {},
   "outputs": [
    {
     "name": "stdout",
     "output_type": "stream",
     "text": [
      "It is an irony that has taken all of years to evolve \n",
      "\n",
      " On October  the Gandhian Potti Sriramulu went on a hunger strike to demand a separate state for Telugu speakers \n",
      "\n",
      " His fast was a reminder to the ruling Congress to fulfil its decades-old promise of establishing as far as possible homogeneous linguistic states in post-Independence India \n",
      "\n",
      " Sriramulu died days later triggering an uproar that eventually led to the carving out of Andhra Pradesh from Madras in  \n",
      "\n",
      " In the Bahujan Left Front an emerging political formation in Telangana which was carved out of Andhra Pradesh as a separate state in has promised in its election manifesto to introduce English-medium instruction in schools along with Telugu from lower kindergarten to Class  \n",
      "\n",
      " Telangana will vote on December to choose its new Assembly the results will be out on December  \n",
      "\n",
      " The wheel of linguistic politics has possibly come full circle \n",
      "\n",
      " Indeed the Bahujan Left Fronts manifesto is a reflection of the gradual change in priorities of the Telugu people from the time of Sriramulu \n",
      "\n",
      " From the late s the rise of the Information Technology industry and the economic mobility it offered led to the atavistic Telugu pride of the s segueing into a demand for English medium schools even before Telangana was born \n",
      "\n",
      " Recognising this changing reality in Andhra Pradesh Chief Minister YS Rajasekhara Reddy identified government schools for SUCCESS short for the governments Strengthening and Universalisation of Quality and Access to Secondary Schools programme \n",
      "\n",
      " These schools offered both Telugu and English as the medium of instruction to students from Class when classes were split into two sections \n",
      "\n",
      " Yet the children found the going extremely tough \n",
      "\n",
      " Their vocabulary was insufficiently developed to switch over to English in Class and worse English books were not made available \n",
      "\n",
      " There were also protests from teachers because they had been trained to teach in Telugu alone said N Narayana convenor Centre for Educational Research and Analysis who provided inputs for the Bahujan Left Fronts manifesto \n",
      "\n",
      " They were neither willing nor suited for teaching in English \n",
      "\n",
      " As Success schools stumbled the rush towards private English-medium schools continued unabated \n",
      "\n",
      " For instance the enrolment in government schools of Yellareddypet Mandal in Rajanna Siricilla district which is in now in Telangana dwindled so alarmingly between and that Manku Rajaiah the mandal educational officer organised village meetings to fathom the craze among parents for English-medium schools \n",
      "\n",
      " It was very clear that parents wanted English as the medium of instruction from the primary level itself Rajaiah said \n",
      "\n",
      " It was consequently decided to introduce English as the medium of instruction in those primary schools of Yellareddypet where the local community was willing to provide support \n",
      "\n",
      " As many as primary schools here adopted English as the medium of instruction \n",
      "\n",
      " The rise in enrollment was instantaneous even though the certificate issued to students said they had been instructed in Telugu \n",
      "\n",
      " This was because the primary schools did not have the autonomy to adopt English as the medium of instruction until  \n",
      "\n",
      " Our initiatives impact was such that three out of the five success schools in our Mandal are now solely English medium said Rajaiah \n",
      "\n",
      " The other two have both Telugu and English as mediums of instruction \n",
      "\n",
      " Yellareddypets initiative was an exception \n",
      "\n",
      " Therefore it did not come as a surprise that in a year after Telangana became a separate state The Hindu reported the closure of many Success schools in Karimnagar and Nalgonda districts \n",
      "\n",
      " This meant that they reverted to being exclusively Telugu medium schools \n",
      "\n",
      " Today an estimated Success schools are functioning in Telangana which has nearly government schools \n",
      "\n",
      " Given Telanganas evident passion for English it is understandable why the Bahujan Left Front has reversed the dominant norm in Indias electoral politics of parties competing with each other to accord primacy to the regional languages \n",
      "\n",
      " It is sheer hypocrisy said G Ramulu the coordinator of the Bahujan Left Front who played a key role in writing its manifesto \n",
      "\n",
      " Those in the political class who speak of promoting Telugu send their own children to English-medium schools \n",
      "\n",
      " As Ramulu sees it there is a rising quest among the lower castes and classes to send their children to English-medium schools \n",
      "\n",
      " Even the daily wage labourer wants English education for his children said Ramulu \n",
      "\n",
      " The only way the children of lower classes and castes can hope to compete with those of the ruling class is by studying in English \n",
      "\n",
      " English has become the rallying flag of the Bahujan Left Front because of the nature of its support base \n",
      "\n",
      " A conglomeration of minor political parties that is spearheaded by the Communist Party of India (Marxist) the Bahujan Left Front is the political arm so to speak of the Telangana Mass and Social Organisations popularly known as T-Mass which has the scholar Kancha Ilaiah as its chairman \n",
      "\n",
      " Formed in July T-Mass has brought together social organisations consisting of Ambedkarites or followers of Dr BR Ambedkar Phuleites or votaries of Jyotirao Phule and Marxists or those whose inspiration is Karl Marx \n",
      "\n",
      " Anchored in the interests of Dalits Other Backward Classes and religious minorities T-Mass seeks to unite the Ambedkarites and communists who have been engaged for decades in bruising debates whether caste or class is the principal faultline in Indias politics \n",
      "\n",
      " Our idea is to create the Ambedkarite-communist development model as the new alternative for the country said Ilaiah \n",
      "\n",
      " It is because of the dominant Nehruvian Brahminical ideology that India is the only democratic country where there are parallel systems of education having two different mediums of instruction \n",
      "\n",
      " There is the private sector where the medium of instruction is overwhelmingly English \n",
      "\n",
      " Regional languages are confined to the public sector \n",
      "\n",
      " The dual system has enabled the middle class-upper castes to monopolise English appropriate jobs commanding power wealth and status and establish their political dominance \n",
      "\n",
      " Radical change cannot take place until the lower castes break this groups monopoly over English say Bahujan Left Front leaders \n",
      "\n",
      " Ilaiah said that even the wealthy agrarian Shudra community did not send their children to English-medium schools because these were not located near their homes \n",
      "\n",
      " Nor did anyone try to inculcate in them the consciousness of studying in English \n",
      "\n",
      " In ancient India Brahmins debarred others from studying Sanskrit said Ilaiah \n",
      "\n",
      " In the modern era through the system of parallel mediums of instruction they are saying the lower castes cannot learn English \n",
      "\n",
      " Even though the Bahujan Left Fronts manifesto too provides for both English and Telugu mediums of instruction its blueprint is a departure from the current system \n",
      "\n",
      " It offers English as the medium of instruction from lower kindergarten not from Class and also promises it in every government school not just where the dual system operates \n",
      "\n",
      " It is certainly better both for teachers and students to have English as the medium of instruction from lower kindergarten than to switch to it in Class said Narayana \n",
      "\n"
     ]
    }
   ],
   "source": [
    "temp = []\n",
    "for i in text_lst:\n",
    "    if len(i) > 5:\n",
    "        temp.append(i)\n",
    "\n",
    "text_lst = temp\n",
    "\n",
    "for i in (text_lst):\n",
    "    print i,'\\n'"
   ]
  },
  {
   "cell_type": "markdown",
   "metadata": {},
   "source": [
    "### Count via term document matrix"
   ]
  },
  {
   "cell_type": "code",
   "execution_count": 7,
   "metadata": {},
   "outputs": [
    {
     "data": {
      "text/plain": [
       "[u'access',\n",
       " u'accord',\n",
       " u'adopt',\n",
       " u'adopted',\n",
       " u'agrarian',\n",
       " u'alarmingly',\n",
       " u'alone',\n",
       " u'along',\n",
       " u'also',\n",
       " u'alternative',\n",
       " u'ambedkar',\n",
       " u'ambedkarite',\n",
       " u'ambedkarites',\n",
       " u'among',\n",
       " u'analysis',\n",
       " u'anchored',\n",
       " u'ancient',\n",
       " u'andhra',\n",
       " u'anyone',\n",
       " u'appropriate',\n",
       " u'arm',\n",
       " u'assembly',\n",
       " u'atavistic',\n",
       " u'autonomy',\n",
       " u'available',\n",
       " u'backward',\n",
       " u'bahujan',\n",
       " u'base',\n",
       " u'became',\n",
       " u'become',\n",
       " u'better',\n",
       " u'blueprint',\n",
       " u'books',\n",
       " u'born',\n",
       " u'br',\n",
       " u'brahminical',\n",
       " u'brahmins',\n",
       " u'break',\n",
       " u'brought',\n",
       " u'bruising',\n",
       " u'cannot',\n",
       " u'carved',\n",
       " u'carving',\n",
       " u'caste',\n",
       " u'castes',\n",
       " u'centre',\n",
       " u'certainly',\n",
       " u'certificate',\n",
       " u'chairman',\n",
       " u'change',\n",
       " u'changing',\n",
       " u'chief',\n",
       " u'children',\n",
       " u'choose',\n",
       " u'circle',\n",
       " u'class',\n",
       " u'classes',\n",
       " u'clear',\n",
       " u'closure',\n",
       " u'come',\n",
       " u'commanding',\n",
       " u'communist',\n",
       " u'communists',\n",
       " u'community',\n",
       " u'compete',\n",
       " u'competing',\n",
       " u'confined',\n",
       " u'conglomeration',\n",
       " u'congress',\n",
       " u'consciousness',\n",
       " u'consequently',\n",
       " u'consisting',\n",
       " u'continued',\n",
       " u'convenor',\n",
       " u'coordinator',\n",
       " u'country',\n",
       " u'craze',\n",
       " u'create',\n",
       " u'current',\n",
       " u'daily',\n",
       " u'dalits',\n",
       " u'days',\n",
       " u'debarred',\n",
       " u'debates',\n",
       " u'decades',\n",
       " u'december',\n",
       " u'decided',\n",
       " u'demand',\n",
       " u'democratic',\n",
       " u'departure',\n",
       " u'developed',\n",
       " u'development',\n",
       " u'died',\n",
       " u'different',\n",
       " u'district',\n",
       " u'districts',\n",
       " u'dominance',\n",
       " u'dominant',\n",
       " u'dr',\n",
       " u'dual',\n",
       " u'dwindled',\n",
       " u'economic',\n",
       " u'education',\n",
       " u'educational',\n",
       " u'election',\n",
       " u'electoral',\n",
       " u'emerging',\n",
       " u'enabled',\n",
       " u'engaged',\n",
       " u'english',\n",
       " u'enrollment',\n",
       " u'enrolment',\n",
       " u'era',\n",
       " u'establish',\n",
       " u'establishing',\n",
       " u'estimated',\n",
       " u'even',\n",
       " u'eventually',\n",
       " u'every',\n",
       " u'evident',\n",
       " u'evolve',\n",
       " u'exception',\n",
       " u'exclusively',\n",
       " u'extremely',\n",
       " u'far',\n",
       " u'fast',\n",
       " u'fathom',\n",
       " u'faultline',\n",
       " u'five',\n",
       " u'flag',\n",
       " u'followers',\n",
       " u'formation',\n",
       " u'formed',\n",
       " u'found',\n",
       " u'front',\n",
       " u'fronts',\n",
       " u'fulfil',\n",
       " u'full',\n",
       " u'functioning',\n",
       " u'gandhian',\n",
       " u'given',\n",
       " u'going',\n",
       " u'government',\n",
       " u'governments',\n",
       " u'gradual',\n",
       " u'groups',\n",
       " u'hindu',\n",
       " u'homes',\n",
       " u'homogeneous',\n",
       " u'hope',\n",
       " u'hunger',\n",
       " u'hypocrisy',\n",
       " u'idea',\n",
       " u'identified',\n",
       " u'ideology',\n",
       " u'ilaiah',\n",
       " u'impact',\n",
       " u'inculcate',\n",
       " u'indeed',\n",
       " u'independence',\n",
       " u'india',\n",
       " u'indias',\n",
       " u'industry',\n",
       " u'information',\n",
       " u'initiative',\n",
       " u'initiatives',\n",
       " u'inputs',\n",
       " u'inspiration',\n",
       " u'instance',\n",
       " u'instantaneous',\n",
       " u'instructed',\n",
       " u'instruction',\n",
       " u'insufficiently',\n",
       " u'interests',\n",
       " u'introduce',\n",
       " u'irony',\n",
       " u'issued',\n",
       " u'jobs',\n",
       " u'july',\n",
       " u'jyotirao',\n",
       " u'kancha',\n",
       " u'karimnagar',\n",
       " u'karl',\n",
       " u'key',\n",
       " u'kindergarten',\n",
       " u'known',\n",
       " u'labourer',\n",
       " u'languages',\n",
       " u'late',\n",
       " u'later',\n",
       " u'leaders',\n",
       " u'learn',\n",
       " u'led',\n",
       " u'left',\n",
       " u'level',\n",
       " u'linguistic',\n",
       " u'local',\n",
       " u'located',\n",
       " u'lower',\n",
       " u'made',\n",
       " u'madras',\n",
       " u'mandal',\n",
       " u'manifesto',\n",
       " u'manku',\n",
       " u'many',\n",
       " u'marx',\n",
       " u'marxist',\n",
       " u'marxists',\n",
       " u'mass',\n",
       " u'meant',\n",
       " u'medium',\n",
       " u'mediums',\n",
       " u'meetings',\n",
       " u'middle',\n",
       " u'minister',\n",
       " u'minor',\n",
       " u'minorities',\n",
       " u'mobility',\n",
       " u'model',\n",
       " u'modern',\n",
       " u'monopolise',\n",
       " u'monopoly',\n",
       " u'nalgonda',\n",
       " u'narayana',\n",
       " u'nature',\n",
       " u'near',\n",
       " u'nearly',\n",
       " u'nehruvian',\n",
       " u'neither',\n",
       " u'new',\n",
       " u'norm',\n",
       " u'october',\n",
       " u'offered',\n",
       " u'offers',\n",
       " u'officer',\n",
       " u'old',\n",
       " u'operates',\n",
       " u'organisations',\n",
       " u'organised',\n",
       " u'others',\n",
       " u'overwhelmingly',\n",
       " u'parallel',\n",
       " u'parents',\n",
       " u'parties',\n",
       " u'party',\n",
       " u'passion',\n",
       " u'people',\n",
       " u'phule',\n",
       " u'phuleites',\n",
       " u'place',\n",
       " u'played',\n",
       " u'political',\n",
       " u'politics',\n",
       " u'popularly',\n",
       " u'possible',\n",
       " u'possibly',\n",
       " u'post',\n",
       " u'potti',\n",
       " u'power',\n",
       " u'pradesh',\n",
       " u'pride',\n",
       " u'primacy',\n",
       " u'primary',\n",
       " u'principal',\n",
       " u'priorities',\n",
       " u'private',\n",
       " u'programme',\n",
       " u'promise',\n",
       " u'promised',\n",
       " u'promises',\n",
       " u'promoting',\n",
       " u'protests',\n",
       " u'provide',\n",
       " u'provided',\n",
       " u'provides',\n",
       " u'public',\n",
       " u'quality',\n",
       " u'quest',\n",
       " u'radical',\n",
       " u'rajaiah',\n",
       " u'rajanna',\n",
       " u'rajasekhara',\n",
       " u'rallying',\n",
       " u'ramulu',\n",
       " u'reality',\n",
       " u'recognising',\n",
       " u'reddy',\n",
       " u'reflection',\n",
       " u'regional',\n",
       " u'religious',\n",
       " u'reminder',\n",
       " u'reported',\n",
       " u'research',\n",
       " u'results',\n",
       " u'reversed',\n",
       " u'reverted',\n",
       " u'rise',\n",
       " u'rising',\n",
       " u'role',\n",
       " u'ruling',\n",
       " u'rush',\n",
       " u'said',\n",
       " u'sanskrit',\n",
       " u'say',\n",
       " u'saying',\n",
       " u'scholar',\n",
       " u'school',\n",
       " u'schools',\n",
       " u'secondary',\n",
       " u'sections',\n",
       " u'sector',\n",
       " u'seeks',\n",
       " u'sees',\n",
       " u'segueing',\n",
       " u'send',\n",
       " u'separate',\n",
       " u'sheer',\n",
       " u'short',\n",
       " u'shudra',\n",
       " u'siricilla',\n",
       " u'social',\n",
       " u'solely',\n",
       " u'speak',\n",
       " u'speakers',\n",
       " u'spearheaded',\n",
       " u'split',\n",
       " u'sriramulu',\n",
       " u'state',\n",
       " u'states',\n",
       " u'status',\n",
       " u'strengthening',\n",
       " u'strike',\n",
       " u'students',\n",
       " u'studying',\n",
       " u'stumbled',\n",
       " u'success',\n",
       " u'suited',\n",
       " u'support',\n",
       " u'surprise',\n",
       " u'switch',\n",
       " u'system',\n",
       " u'systems',\n",
       " u'take',\n",
       " u'taken',\n",
       " u'teach',\n",
       " u'teachers',\n",
       " u'teaching',\n",
       " u'technology',\n",
       " u'telangana',\n",
       " u'telanganas',\n",
       " u'telugu',\n",
       " u'therefore',\n",
       " u'though',\n",
       " u'three',\n",
       " u'time',\n",
       " u'today',\n",
       " u'together',\n",
       " u'tough',\n",
       " u'towards',\n",
       " u'trained',\n",
       " u'triggering',\n",
       " u'try',\n",
       " u'two',\n",
       " u'unabated',\n",
       " u'understandable',\n",
       " u'unite',\n",
       " u'universalisation',\n",
       " u'upper',\n",
       " u'uproar',\n",
       " u'village',\n",
       " u'vocabulary',\n",
       " u'votaries',\n",
       " u'vote',\n",
       " u'wage',\n",
       " u'wanted',\n",
       " u'wants',\n",
       " u'way',\n",
       " u'wealth',\n",
       " u'wealthy',\n",
       " u'went',\n",
       " u'wheel',\n",
       " u'whether',\n",
       " u'whose',\n",
       " u'willing',\n",
       " u'worse',\n",
       " u'writing',\n",
       " u'year',\n",
       " u'years',\n",
       " u'yellareddypet',\n",
       " u'yellareddypets',\n",
       " u'yet',\n",
       " u'ys']"
      ]
     },
     "execution_count": 7,
     "metadata": {},
     "output_type": "execute_result"
    }
   ],
   "source": [
    "from sklearn.feature_extraction.text import CountVectorizer\n",
    "\n",
    "count_vectorizer = CountVectorizer(stop_words = stop_words)\n",
    "count_vectorizer.fit_transform(text_lst)\n",
    "\n",
    "count_vectorizer.get_feature_names()"
   ]
  },
  {
   "cell_type": "code",
   "execution_count": 8,
   "metadata": {},
   "outputs": [],
   "source": [
    "freq_term_matrix = count_vectorizer.transform(text_lst)"
   ]
  },
  {
   "cell_type": "markdown",
   "metadata": {},
   "source": [
    "### Converting term document matrix to TFIDF matrix"
   ]
  },
  {
   "cell_type": "code",
   "execution_count": 9,
   "metadata": {
    "scrolled": false
   },
   "outputs": [
    {
     "data": {
      "text/plain": [
       "TfidfTransformer(norm='l2', smooth_idf=True, sublinear_tf=False, use_idf=True)"
      ]
     },
     "execution_count": 9,
     "metadata": {},
     "output_type": "execute_result"
    }
   ],
   "source": [
    "from sklearn.feature_extraction.text import TfidfTransformer\n",
    "\n",
    "tfidf = TfidfTransformer(norm=\"l2\")\n",
    "tfidf.fit(freq_term_matrix)"
   ]
  },
  {
   "cell_type": "markdown",
   "metadata": {},
   "source": [
    "Use \"tf_idf_matrix.todense()\" function to get sentence vectors "
   ]
  },
  {
   "cell_type": "code",
   "execution_count": 10,
   "metadata": {},
   "outputs": [],
   "source": [
    "tf_idf_matrix = tfidf.transform(freq_term_matrix)"
   ]
  },
  {
   "cell_type": "markdown",
   "metadata": {},
   "source": [
    "### Making a Graph \n",
    "\n",
    "Through sentence vectors"
   ]
  },
  {
   "cell_type": "code",
   "execution_count": 11,
   "metadata": {},
   "outputs": [],
   "source": [
    "G = nx.Graph()"
   ]
  },
  {
   "cell_type": "code",
   "execution_count": 12,
   "metadata": {},
   "outputs": [],
   "source": [
    "nodes = [i for i in range(len(text_lst))]"
   ]
  },
  {
   "cell_type": "code",
   "execution_count": 13,
   "metadata": {},
   "outputs": [],
   "source": [
    "G.add_nodes_from(nodes)"
   ]
  },
  {
   "cell_type": "markdown",
   "metadata": {},
   "source": [
    "Edge Weights are \"Cosine Similarity\" values"
   ]
  },
  {
   "cell_type": "code",
   "execution_count": 14,
   "metadata": {},
   "outputs": [],
   "source": [
    "adj_matrix = []\n",
    "for i in range((len(text_lst))):\n",
    "    adj_matrix.append([])"
   ]
  },
  {
   "cell_type": "code",
   "execution_count": 15,
   "metadata": {
    "scrolled": false
   },
   "outputs": [],
   "source": [
    "from sklearn.metrics.pairwise import cosine_similarity\n",
    "\n",
    "for i in nodes:\n",
    "    for j in nodes:\n",
    "        sim = cosine_similarity(tf_idf_matrix.todense()[i], tf_idf_matrix.todense()[j])\n",
    "        adj_matrix[i].append(float(sim))"
   ]
  },
  {
   "cell_type": "code",
   "execution_count": 16,
   "metadata": {},
   "outputs": [],
   "source": [
    "for i in nodes:\n",
    "    for j in nodes:\n",
    "        if i != j:\n",
    "            G.add_edge(i,j,weight = adj_matrix[i][j])"
   ]
  },
  {
   "cell_type": "code",
   "execution_count": 17,
   "metadata": {},
   "outputs": [],
   "source": [
    "pos=nx.spring_layout(G)"
   ]
  },
  {
   "cell_type": "code",
   "execution_count": 18,
   "metadata": {},
   "outputs": [],
   "source": [
    "from matplotlib import pyplot as plt\n",
    "\n",
    "plt.figure(figsize=(30,30))\n",
    "\n",
    "nx.draw_networkx_nodes(G,pos,node_size=700)\n",
    "nx.draw_networkx_edges(G,pos)\n",
    "nx.draw_networkx_labels(G,pos)\n",
    "\n",
    "plt.axis('off')\n",
    "plt.draw()"
   ]
  },
  {
   "cell_type": "markdown",
   "metadata": {},
   "source": [
    "### Using pagerank \n",
    "\n",
    "To get the maximum probability of landing on a during a random walk"
   ]
  },
  {
   "cell_type": "code",
   "execution_count": 19,
   "metadata": {},
   "outputs": [],
   "source": [
    "pr=nx.pagerank(G)"
   ]
  },
  {
   "cell_type": "markdown",
   "metadata": {},
   "source": [
    "### Sorted order of relevancy"
   ]
  },
  {
   "cell_type": "code",
   "execution_count": 20,
   "metadata": {},
   "outputs": [
    {
     "name": "stdout",
     "output_type": "stream",
     "text": [
      " In the Bahujan Left Front an emerging political formation in Telangana which was carved out of Andhra Pradesh as a separate state in has promised in its election manifesto to introduce English-medium instruction in schools along with Telugu from lower kindergarten to Class  -------- \u001b[31m0.042145\u001b[0m \n",
      "\n",
      " Those in the political class who speak of promoting Telugu send their own children to English-medium schools -------- \u001b[31m0.039031\u001b[0m \n",
      "\n",
      " These schools offered both Telugu and English as the medium of instruction to students from Class when classes were split into two sections -------- \u001b[31m0.038643\u001b[0m \n",
      "\n",
      " As many as primary schools here adopted English as the medium of instruction -------- \u001b[31m0.035462\u001b[0m \n",
      "\n",
      " The other two have both Telugu and English as mediums of instruction -------- \u001b[31m0.033834\u001b[0m \n",
      "\n",
      " This was because the primary schools did not have the autonomy to adopt English as the medium of instruction until  -------- \u001b[31m0.033490\u001b[0m \n",
      "\n",
      " It is certainly better both for teachers and students to have English as the medium of instruction from lower kindergarten than to switch to it in Class said Narayana -------- \u001b[31m0.031848\u001b[0m \n",
      "\n",
      " As Ramulu sees it there is a rising quest among the lower castes and classes to send their children to English-medium schools -------- \u001b[31m0.031475\u001b[0m \n",
      "\n",
      " Even though the Bahujan Left Fronts manifesto too provides for both English and Telugu mediums of instruction its blueprint is a departure from the current system -------- \u001b[31m0.030957\u001b[0m \n",
      "\n",
      " Ilaiah said that even the wealthy agrarian Shudra community did not send their children to English-medium schools because these were not located near their homes -------- \u001b[31m0.028279\u001b[0m \n",
      "\n",
      " There is the private sector where the medium of instruction is overwhelmingly English -------- \u001b[31m0.027677\u001b[0m \n",
      "\n",
      " It was very clear that parents wanted English as the medium of instruction from the primary level itself Rajaiah said -------- \u001b[31m0.027223\u001b[0m \n",
      "\n",
      " It was consequently decided to introduce English as the medium of instruction in those primary schools of Yellareddypet where the local community was willing to provide support -------- \u001b[31m0.026410\u001b[0m \n",
      "\n",
      " The only way the children of lower classes and castes can hope to compete with those of the ruling class is by studying in English -------- \u001b[31m0.026038\u001b[0m \n",
      "\n",
      " It offers English as the medium of instruction from lower kindergarten not from Class and also promises it in every government school not just where the dual system operates -------- \u001b[31m0.025995\u001b[0m \n",
      "\n",
      " As Success schools stumbled the rush towards private English-medium schools continued unabated -------- \u001b[31m0.025497\u001b[0m \n",
      "\n",
      " Our initiatives impact was such that three out of the five success schools in our Mandal are now solely English medium said Rajaiah -------- \u001b[31m0.025323\u001b[0m \n",
      "\n",
      " From the late s the rise of the Information Technology industry and the economic mobility it offered led to the atavistic Telugu pride of the s segueing into a demand for English medium schools even before Telangana was born -------- \u001b[31m0.023136\u001b[0m \n",
      "\n",
      " In the modern era through the system of parallel mediums of instruction they are saying the lower castes cannot learn English -------- \u001b[31m0.022596\u001b[0m \n",
      "\n",
      " This meant that they reverted to being exclusively Telugu medium schools -------- \u001b[31m0.021774\u001b[0m \n",
      "\n",
      " For instance the enrolment in government schools of Yellareddypet Mandal in Rajanna Siricilla district which is in now in Telangana dwindled so alarmingly between and that Manku Rajaiah the mandal educational officer organised village meetings to fathom the craze among parents for English-medium schools -------- \u001b[31m0.020813\u001b[0m \n",
      "\n",
      " A conglomeration of minor political parties that is spearheaded by the Communist Party of India (Marxist) the Bahujan Left Front is the political arm so to speak of the Telangana Mass and Social Organisations popularly known as T-Mass which has the scholar Kancha Ilaiah as its chairman -------- \u001b[31m0.020808\u001b[0m \n",
      "\n",
      " Today an estimated Success schools are functioning in Telangana which has nearly government schools -------- \u001b[31m0.020318\u001b[0m \n",
      "\n",
      " Even the daily wage labourer wants English education for his children said Ramulu -------- \u001b[31m0.020295\u001b[0m \n",
      "\n",
      " Radical change cannot take place until the lower castes break this groups monopoly over English say Bahujan Left Front leaders -------- \u001b[31m0.019459\u001b[0m \n",
      "\n",
      " Given Telanganas evident passion for English it is understandable why the Bahujan Left Front has reversed the dominant norm in Indias electoral politics of parties competing with each other to accord primacy to the regional languages -------- \u001b[31m0.018386\u001b[0m \n",
      "\n",
      " There were also protests from teachers because they had been trained to teach in Telugu alone said N Narayana convenor Centre for Educational Research and Analysis who provided inputs for the Bahujan Left Fronts manifesto -------- \u001b[31m0.017831\u001b[0m \n",
      "\n",
      " Indeed the Bahujan Left Fronts manifesto is a reflection of the gradual change in priorities of the Telugu people from the time of Sriramulu -------- \u001b[31m0.017522\u001b[0m \n",
      "\n",
      " It is sheer hypocrisy said G Ramulu the coordinator of the Bahujan Left Front who played a key role in writing its manifesto -------- \u001b[31m0.017299\u001b[0m \n",
      "\n",
      " English has become the rallying flag of the Bahujan Left Front because of the nature of its support base -------- \u001b[31m0.017293\u001b[0m \n",
      "\n",
      " It is because of the dominant Nehruvian Brahminical ideology that India is the only democratic country where there are parallel systems of education having two different mediums of instruction -------- \u001b[31m0.015969\u001b[0m \n",
      "\n",
      " The rise in enrollment was instantaneous even though the certificate issued to students said they had been instructed in Telugu -------- \u001b[31m0.015604\u001b[0m \n",
      "\n",
      " Therefore it did not come as a surprise that in a year after Telangana became a separate state The Hindu reported the closure of many Success schools in Karimnagar and Nalgonda districts -------- \u001b[31m0.015542\u001b[0m \n",
      "\n",
      " Their vocabulary was insufficiently developed to switch over to English in Class and worse English books were not made available -------- \u001b[31m0.015524\u001b[0m \n",
      "\n",
      " The dual system has enabled the middle class-upper castes to monopolise English appropriate jobs commanding power wealth and status and establish their political dominance -------- \u001b[31m0.014216\u001b[0m \n",
      "\n",
      " Recognising this changing reality in Andhra Pradesh Chief Minister YS Rajasekhara Reddy identified government schools for SUCCESS short for the governments Strengthening and Universalisation of Quality and Access to Secondary Schools programme -------- \u001b[31m0.013831\u001b[0m \n",
      "\n",
      " In ancient India Brahmins debarred others from studying Sanskrit said Ilaiah -------- \u001b[31m0.013405\u001b[0m \n",
      "\n",
      " Anchored in the interests of Dalits Other Backward Classes and religious minorities T-Mass seeks to unite the Ambedkarites and communists who have been engaged for decades in bruising debates whether caste or class is the principal faultline in Indias politics -------- \u001b[31m0.011775\u001b[0m \n",
      "\n",
      " Nor did anyone try to inculcate in them the consciousness of studying in English -------- \u001b[31m0.011332\u001b[0m \n",
      "\n",
      " Our idea is to create the Ambedkarite-communist development model as the new alternative for the country said Ilaiah -------- \u001b[31m0.011177\u001b[0m \n",
      "\n",
      " On October  the Gandhian Potti Sriramulu went on a hunger strike to demand a separate state for Telugu speakers -------- \u001b[31m0.010994\u001b[0m \n",
      "\n",
      " They were neither willing nor suited for teaching in English -------- \u001b[31m0.010561\u001b[0m \n",
      "\n",
      " His fast was a reminder to the ruling Congress to fulfil its decades-old promise of establishing as far as possible homogeneous linguistic states in post-Independence India -------- \u001b[31m0.007521\u001b[0m \n",
      "\n",
      " The wheel of linguistic politics has possibly come full circle -------- \u001b[31m0.007119\u001b[0m \n",
      "\n",
      " Regional languages are confined to the public sector -------- \u001b[31m0.006992\u001b[0m \n",
      "\n",
      " Sriramulu died days later triggering an uproar that eventually led to the carving out of Andhra Pradesh from Madras in  -------- \u001b[31m0.006915\u001b[0m \n",
      "\n",
      " Yet the children found the going extremely tough -------- \u001b[31m0.006562\u001b[0m \n",
      "\n",
      " Telangana will vote on December to choose its new Assembly the results will be out on December  -------- \u001b[31m0.006391\u001b[0m \n",
      "\n",
      " Formed in July T-Mass has brought together social organisations consisting of Ambedkarites or followers of Dr BR Ambedkar Phuleites or votaries of Jyotirao Phule and Marxists or those whose inspiration is Karl Marx -------- \u001b[31m0.005626\u001b[0m \n",
      "\n",
      " Yellareddypets initiative was an exception -------- \u001b[31m0.003043\u001b[0m \n",
      "\n",
      "It is an irony that has taken all of years to evolve -------- \u001b[31m0.003043\u001b[0m \n",
      "\n"
     ]
    }
   ],
   "source": [
    "import operator\n",
    "pr_sorted = sorted(pr.items(), key=operator.itemgetter(1))\n",
    "\n",
    "for i in range(len(pr_sorted)):\n",
    "    ids = pr_sorted[-(i+1)]\n",
    "    print text_lst[ids[0]],'--------',\"\\x1b[31m%f\\x1b[0m\"%(ids[1]),\"\\n\""
   ]
  },
  {
   "cell_type": "code",
   "execution_count": 21,
   "metadata": {},
   "outputs": [],
   "source": [
    "for i,w in enumerate(pr_sorted):\n",
    "    pr_sorted[i] = list(w)"
   ]
  },
  {
   "cell_type": "code",
   "execution_count": 22,
   "metadata": {
    "scrolled": true
   },
   "outputs": [
    {
     "data": {
      "text/plain": [
       "[[0, 0.0030425963488843826],\n",
       " [24, 0.0030425963488843826],\n",
       " [36, 0.005626010903000536],\n",
       " [5, 0.006391068680600872],\n",
       " [11, 0.0065624984342544275],\n",
       " [3, 0.0069150798797181605],\n",
       " [41, 0.006992494236687387],\n",
       " [6, 0.007118865651448256],\n",
       " [2, 0.00752097577771877],\n",
       " [14, 0.010560692940890787],\n",
       " [1, 0.010993578917225584],\n",
       " [38, 0.011177144579890023],\n",
       " [45, 0.011331963549440544],\n",
       " [37, 0.011774751895312699],\n",
       " [46, 0.013404879918667784],\n",
       " [9, 0.013830879505666626],\n",
       " [42, 0.014216081010363724],\n",
       " [12, 0.015524251260900051],\n",
       " [25, 0.015542011808476402],\n",
       " [20, 0.015603711612702378],\n",
       " [39, 0.015969198355076965],\n",
       " [34, 0.01729337677782867],\n",
       " [29, 0.017299063806687942],\n",
       " [7, 0.01752226052884017],\n",
       " [13, 0.017831250516177424],\n",
       " [28, 0.01838559191815627],\n",
       " [43, 0.019459066286263],\n",
       " [32, 0.02029496926021063],\n",
       " [27, 0.02031835271762335],\n",
       " [35, 0.020807632814383775],\n",
       " [16, 0.02081308757602231],\n",
       " [26, 0.02177394891814705],\n",
       " [47, 0.02259641403664833],\n",
       " [8, 0.02313635497934319],\n",
       " [22, 0.02532259987082115],\n",
       " [15, 0.0254967868844152],\n",
       " [49, 0.025994860915213663],\n",
       " [33, 0.026037684812866526],\n",
       " [18, 0.026410127195800624],\n",
       " [17, 0.027223384688021747],\n",
       " [40, 0.02767685742378379],\n",
       " [44, 0.02827919240582031],\n",
       " [48, 0.03095721010198099],\n",
       " [31, 0.031475018780308554],\n",
       " [50, 0.03184828317582722],\n",
       " [21, 0.03348985236615774],\n",
       " [23, 0.033834380031957614],\n",
       " [19, 0.035461824854483306],\n",
       " [10, 0.03864335863211921],\n",
       " [30, 0.03903104930490766],\n",
       " [4, 0.04214482680337169]]"
      ]
     },
     "execution_count": 22,
     "metadata": {},
     "output_type": "execute_result"
    }
   ],
   "source": [
    "pr_sorted"
   ]
  },
  {
   "cell_type": "markdown",
   "metadata": {},
   "source": [
    "### Maximal Marginal Relevance (MMR)"
   ]
  },
  {
   "cell_type": "code",
   "execution_count": 23,
   "metadata": {},
   "outputs": [],
   "source": [
    "def mmr(pr_sorted_):\n",
    "    most_sim = pr_sorted_[-1]\n",
    "    pr_sorted_ = pr_sorted_[:-1]\n",
    "    \n",
    "    most_sim_node = most_sim[0]\n",
    "    \n",
    "    left_node = []\n",
    "    for i in pr_sorted_:\n",
    "        left_node.append(i[0])\n",
    "    \n",
    "    for i,j in enumerate(left_node):\n",
    "        sim = cosine_similarity(tf_idf_matrix.todense()[j], tf_idf_matrix.todense()[most_sim_node])\n",
    "        lambd = 0.04\n",
    "        rel_weight = lambd*float(sim)\n",
    "        pr_sorted_[i][1] = pr_sorted_[i][1] - rel_weight\n",
    "    \n",
    "    return pr_sorted_, most_sim_node"
   ]
  },
  {
   "cell_type": "markdown",
   "metadata": {},
   "source": [
    "### Second most relevant sentence after MMR"
   ]
  },
  {
   "cell_type": "code",
   "execution_count": 24,
   "metadata": {},
   "outputs": [],
   "source": [
    "pr_new, most_sim_node = mmr(pr_sorted)\n",
    "\n",
    "summary = [most_sim_node]\n",
    "\n",
    "for i,w in enumerate(pr_new):\n",
    "    pr_new[i] = tuple(w)\n",
    "\n",
    "pr_sorted_new = sorted(pr_new, key=lambda tup: tup[1])"
   ]
  },
  {
   "cell_type": "code",
   "execution_count": 25,
   "metadata": {
    "scrolled": true
   },
   "outputs": [
    {
     "data": {
      "text/plain": [
       "[(3, 0.002578413642484999),\n",
       " (0, 0.0030425963488843826),\n",
       " (24, 0.0030425963488843826),\n",
       " (5, 0.004864042840807589),\n",
       " (1, 0.005447721006766142),\n",
       " (36, 0.005626010903000536),\n",
       " (11, 0.0065624984342544275),\n",
       " (41, 0.006992494236687387),\n",
       " (6, 0.007118865651448256),\n",
       " (2, 0.00752097577771877),\n",
       " (9, 0.009554284209924782),\n",
       " (14, 0.009849548569405049),\n",
       " (25, 0.009851918668511647),\n",
       " (45, 0.010688907107663497),\n",
       " (37, 0.010908692746757764),\n",
       " (38, 0.011177144579890023),\n",
       " (42, 0.011216273469323574),\n",
       " (29, 0.01137225115157886),\n",
       " (34, 0.011930719824630544),\n",
       " (7, 0.012123672131329633),\n",
       " (12, 0.01323174308175449),\n",
       " (46, 0.013404879918667784),\n",
       " (13, 0.013588218766491151),\n",
       " (43, 0.013966553756617591),\n",
       " (20, 0.01443306984931394),\n",
       " (35, 0.014543891647422792),\n",
       " (28, 0.014909440419223754),\n",
       " (39, 0.01508037574766023),\n",
       " (27, 0.01654227181512266),\n",
       " (26, 0.017498103171421184),\n",
       " (16, 0.01803524926153312),\n",
       " (49, 0.01887774284151953),\n",
       " (8, 0.019442332233065573),\n",
       " (47, 0.019446446436462865),\n",
       " (32, 0.0197628027230079),\n",
       " (18, 0.020697418914683425),\n",
       " (33, 0.0222940313701867),\n",
       " (15, 0.02230740603232016),\n",
       " (22, 0.023088424809600078),\n",
       " (50, 0.02371949069926331),\n",
       " (40, 0.023923164012854645),\n",
       " (48, 0.02397597670402742),\n",
       " (17, 0.024474562908490607),\n",
       " (44, 0.02629090259805996),\n",
       " (31, 0.027580085546581364),\n",
       " (23, 0.02839257158787053),\n",
       " (21, 0.02851221110284493),\n",
       " (30, 0.030055895631029436),\n",
       " (19, 0.030351187465821227),\n",
       " (10, 0.032064634546690785)]"
      ]
     },
     "execution_count": 25,
     "metadata": {},
     "output_type": "execute_result"
    }
   ],
   "source": [
    "pr_sorted_new"
   ]
  },
  {
   "cell_type": "markdown",
   "metadata": {},
   "source": [
    "Top - 5"
   ]
  },
  {
   "cell_type": "code",
   "execution_count": 26,
   "metadata": {},
   "outputs": [
    {
     "name": "stdout",
     "output_type": "stream",
     "text": [
      " These schools offered both Telugu and English as the medium of instruction to students from Class 6, when classes were split into two sections -------- \u001b[31m0.032065\u001b[0m \n",
      "\n",
      " As many as 33 primary schools here adopted English as the medium of instruction -------- \u001b[31m0.030351\u001b[0m \n",
      "\n",
      " “Those in the political class who speak of promoting Telugu send their own children to English-medium schools -------- \u001b[31m0.030056\u001b[0m \n",
      "\n",
      " This was because the primary schools did not have the autonomy to adopt English as the medium of instruction until 2014 -------- \u001b[31m0.028512\u001b[0m \n",
      "\n",
      " “The other two have both Telugu and English as mediums of instruction -------- \u001b[31m0.028393\u001b[0m \n",
      "\n"
     ]
    }
   ],
   "source": [
    "for i in range(len(pr_sorted_new)):\n",
    "    if i < 5:\n",
    "        ids = pr_sorted_new[-(i+1)]\n",
    "        print text_lst_init[ids[0]],'--------',\"\\x1b[31m%f\\x1b[0m\"%(ids[1]),\"\\n\""
   ]
  },
  {
   "cell_type": "markdown",
   "metadata": {},
   "source": [
    "### Third most relevant sentence after MMR"
   ]
  },
  {
   "cell_type": "code",
   "execution_count": 27,
   "metadata": {},
   "outputs": [],
   "source": [
    "for i,w in enumerate(pr_sorted_new):\n",
    "    pr_sorted_new[i] = list(w)\n",
    "    \n",
    "pr_new, most_sim_node = mmr(pr_sorted_new)\n",
    "summary.append(most_sim_node)\n",
    "\n",
    "for i,w in enumerate(pr_new):\n",
    "    pr_new[i] = tuple(w)\n",
    "\n",
    "pr_sorted_new = sorted(pr_new, key=lambda tup: tup[1])"
   ]
  },
  {
   "cell_type": "markdown",
   "metadata": {},
   "source": [
    "Top - 5"
   ]
  },
  {
   "cell_type": "code",
   "execution_count": 28,
   "metadata": {},
   "outputs": [
    {
     "name": "stdout",
     "output_type": "stream",
     "text": [
      " Ilaiah said that even the wealthy agrarian Shudra community did not send their children to English-medium schools because these were not located near their homes -------- \u001b[31m0.023233\u001b[0m \n",
      "\n",
      " As many as 33 primary schools here adopted English as the medium of instruction -------- \u001b[31m0.022492\u001b[0m \n",
      "\n",
      " This was because the primary schools did not have the autonomy to adopt English as the medium of instruction until 2014 -------- \u001b[31m0.020858\u001b[0m \n",
      "\n",
      "” As Ramulu sees it, there is a rising quest among the lower castes and classes to send their children to English-medium schools -------- \u001b[31m0.020693\u001b[0m \n",
      "\n",
      " “Those in the political class who speak of promoting Telugu send their own children to English-medium schools -------- \u001b[31m0.020595\u001b[0m \n",
      "\n"
     ]
    }
   ],
   "source": [
    "for i in range(len(pr_sorted_new)):\n",
    "    if i < 5:\n",
    "        ids = pr_sorted_new[-(i+1)]\n",
    "        print text_lst_init[ids[0]],'--------',\"\\x1b[31m%f\\x1b[0m\"%(ids[1]),\"\\n\""
   ]
  },
  {
   "cell_type": "markdown",
   "metadata": {},
   "source": [
    "### Fourth most relevant sentence after MMR\n"
   ]
  },
  {
   "cell_type": "code",
   "execution_count": 29,
   "metadata": {},
   "outputs": [],
   "source": [
    "for i,w in enumerate(pr_sorted_new):\n",
    "    pr_sorted_new[i] = list(w)\n",
    "    \n",
    "pr_new, most_sim_node = mmr(pr_sorted_new)\n",
    "summary.append(most_sim_node)\n",
    "\n",
    "for i,w in enumerate(pr_new):\n",
    "    pr_new[i] = tuple(w)\n",
    "\n",
    "pr_sorted_new = sorted(pr_new, key=lambda tup: tup[1])"
   ]
  },
  {
   "cell_type": "markdown",
   "metadata": {},
   "source": [
    "Top - 5 "
   ]
  },
  {
   "cell_type": "code",
   "execution_count": 30,
   "metadata": {},
   "outputs": [
    {
     "name": "stdout",
     "output_type": "stream",
     "text": [
      " As many as 33 primary schools here adopted English as the medium of instruction -------- \u001b[31m0.018241\u001b[0m \n",
      "\n",
      "” Even though the Bahujan Left Front’s manifesto too provides for both English and Telugu mediums of instruction, its blueprint is a departure from the current system -------- \u001b[31m0.017213\u001b[0m \n",
      "\n",
      " This was because the primary schools did not have the autonomy to adopt English as the medium of instruction until 2014 -------- \u001b[31m0.016718\u001b[0m \n",
      "\n",
      " “It was very clear that parents wanted English as the medium of instruction from the primary level itself,” Rajaiah said -------- \u001b[31m0.016547\u001b[0m \n",
      "\n",
      " “In the modern era, through the system of parallel mediums of instruction, they are saying the lower castes cannot learn English -------- \u001b[31m0.016481\u001b[0m \n",
      "\n"
     ]
    }
   ],
   "source": [
    "for i in range(len(pr_sorted_new)):\n",
    "    if i < 5:\n",
    "        ids = pr_sorted_new[-(i+1)]\n",
    "        print text_lst_init[ids[0]],'--------',\"\\x1b[31m%f\\x1b[0m\"%(ids[1]),\"\\n\"\n",
    "        "
   ]
  },
  {
   "cell_type": "code",
   "execution_count": 31,
   "metadata": {
    "scrolled": true
   },
   "outputs": [
    {
     "name": "stdout",
     "output_type": "stream",
     "text": [
      "[4, 10, 44, 19]\n"
     ]
    }
   ],
   "source": [
    "summary.append(pr_sorted_new[-1][0])\n",
    "print summary"
   ]
  },
  {
   "cell_type": "markdown",
   "metadata": {},
   "source": [
    "### Sentence order according to the article"
   ]
  },
  {
   "cell_type": "code",
   "execution_count": 32,
   "metadata": {},
   "outputs": [
    {
     "name": "stdout",
     "output_type": "stream",
     "text": [
      "[4, 10, 19, 44]\n"
     ]
    }
   ],
   "source": [
    "summary.sort()\n",
    "print summary \n",
    "final_sum = []\n",
    "\n",
    "for i in summary:\n",
    "    final_sum.append(text_lst_init[i])"
   ]
  },
  {
   "cell_type": "markdown",
   "metadata": {},
   "source": [
    "### Summary"
   ]
  },
  {
   "cell_type": "code",
   "execution_count": 33,
   "metadata": {},
   "outputs": [
    {
     "name": "stdout",
     "output_type": "stream",
     "text": [
      " In 2018, the Bahujan Left Front, an emerging political formation in Telangana, which was carved out of Andhra Pradesh as a separate state in 2014, has promised in its election manifesto to introduce “English-medium instruction in schools along with Telugu” from lower kindergarten to Class 12. These schools offered both Telugu and English as the medium of instruction to students from Class 6, when classes were split into two sections. As many as 33 primary schools here adopted English as the medium of instruction. Ilaiah said that even the wealthy agrarian Shudra community did not send their children to English-medium schools because these were not located near their homes\n"
     ]
    }
   ],
   "source": [
    "print '.'.join(final_sum)"
   ]
  },
  {
   "cell_type": "markdown",
   "metadata": {},
   "source": [
    "# Community Clustering "
   ]
  },
  {
   "cell_type": "code",
   "execution_count": 34,
   "metadata": {},
   "outputs": [],
   "source": [
    "from networkx.algorithms import community\n",
    "\n",
    "G_c = nx.Graph()\n",
    "\n",
    "G_c.add_nodes_from(nodes)\n",
    "\n",
    "for i in nodes:\n",
    "    for j in nodes:\n",
    "        if i != j:\n",
    "            if adj_matrix[i][j] > 0.17:\n",
    "                G_c.add_edge(i,j,weight = adj_matrix[i][j])\n",
    "\n",
    "communities_generator = community.girvan_newman(G_c)\n",
    "next_level_communities = next(communities_generator)\n",
    "comms = sorted(map(sorted, next_level_communities))"
   ]
  },
  {
   "cell_type": "markdown",
   "metadata": {},
   "source": [
    "### Clusters"
   ]
  },
  {
   "cell_type": "code",
   "execution_count": 35,
   "metadata": {},
   "outputs": [
    {
     "data": {
      "text/plain": [
       "[[0],\n",
       " [1],\n",
       " [2],\n",
       " [3],\n",
       " [4,\n",
       "  7,\n",
       "  8,\n",
       "  10,\n",
       "  12,\n",
       "  13,\n",
       "  20,\n",
       "  23,\n",
       "  26,\n",
       "  30,\n",
       "  31,\n",
       "  32,\n",
       "  33,\n",
       "  35,\n",
       "  39,\n",
       "  43,\n",
       "  44,\n",
       "  47,\n",
       "  48,\n",
       "  49,\n",
       "  50],\n",
       " [5],\n",
       " [6],\n",
       " [9, 15, 16, 17, 18, 19, 21, 22, 27, 28, 40, 41],\n",
       " [11],\n",
       " [14],\n",
       " [24],\n",
       " [25],\n",
       " [29],\n",
       " [34],\n",
       " [36],\n",
       " [37],\n",
       " [38],\n",
       " [42],\n",
       " [45],\n",
       " [46]]"
      ]
     },
     "execution_count": 35,
     "metadata": {},
     "output_type": "execute_result"
    }
   ],
   "source": [
    "comms"
   ]
  },
  {
   "cell_type": "markdown",
   "metadata": {},
   "source": [
    "### Picking 1 from each communities (above 2 members)"
   ]
  },
  {
   "cell_type": "code",
   "execution_count": 36,
   "metadata": {},
   "outputs": [
    {
     "name": "stdout",
     "output_type": "stream",
     "text": [
      " These schools offered both Telugu and English as the medium of instruction to students from Class 6, when classes were split into two sections -------- \u001b[31m0.061861\u001b[0m \n",
      "\n",
      " As many as 33 primary schools here adopted English as the medium of instruction -------- \u001b[31m0.100454\u001b[0m \n",
      "\n"
     ]
    }
   ],
   "source": [
    "comm_sent = []\n",
    "for i in comms:\n",
    "    if len(i) > 2:\n",
    "        new_G = nx.Graph()\n",
    "        for j in i:\n",
    "            new_G.add_node(j)\n",
    "        \n",
    "        for j in i:\n",
    "            for k in i:\n",
    "                new_G.add_edge(k,j,weight = adj_matrix[j][k])\n",
    "                \n",
    "        pr = nx.pagerank(new_G)\n",
    "        pr_sorted = sorted(pr.items(), key=operator.itemgetter(1))\n",
    "        \n",
    "        print text_lst_init[pr_sorted[-1][0]], '--------',\"\\x1b[31m%f\\x1b[0m\"%(pr_sorted[-1][1]),\"\\n\"\n",
    "        \n",
    "        comm_sent.append(text_lst_init[pr_sorted[-1][0]])"
   ]
  },
  {
   "cell_type": "markdown",
   "metadata": {},
   "source": [
    "### Summary"
   ]
  },
  {
   "cell_type": "code",
   "execution_count": 37,
   "metadata": {},
   "outputs": [
    {
     "name": "stdout",
     "output_type": "stream",
     "text": [
      " These schools offered both Telugu and English as the medium of instruction to students from Class 6, when classes were split into two sections. As many as 33 primary schools here adopted English as the medium of instruction\n"
     ]
    }
   ],
   "source": [
    "print '.'.join(comm_sent)"
   ]
  },
  {
   "cell_type": "markdown",
   "metadata": {},
   "source": [
    "# Community Clustering through Bipartite Seperation\n",
    "\n",
    "### Picking top 2 from each communities"
   ]
  },
  {
   "cell_type": "code",
   "execution_count": 38,
   "metadata": {
    "scrolled": true
   },
   "outputs": [
    {
     "name": "stdout",
     "output_type": "stream",
     "text": [
      "” Even though the Bahujan Left Front’s manifesto too provides for both English and Telugu mediums of instruction, its blueprint is a departure from the current system -------- \u001b[31m0.050734\u001b[0m \n",
      "\n",
      " Given Telangana’s evident passion for English, it is understandable why the Bahujan Left Front has reversed the dominant norm in India’s electoral politics – of parties competing with each other to accord primacy to the regional languages -------- \u001b[31m0.047887\u001b[0m \n",
      "\n",
      " As many as 33 primary schools here adopted English as the medium of instruction -------- \u001b[31m0.051981\u001b[0m \n",
      "\n",
      " These schools offered both Telugu and English as the medium of instruction to students from Class 6, when classes were split into two sections -------- \u001b[31m0.050820\u001b[0m \n",
      "\n"
     ]
    }
   ],
   "source": [
    "from networkx.algorithms.community import kernighan_lin_bisection\n",
    "\n",
    "comm_sent = []\n",
    "for i in kernighan_lin_bisection(G):\n",
    "    i = list(i)\n",
    "    \n",
    "    new_G = nx.Graph()\n",
    "    for j in i:\n",
    "        new_G.add_node(j)\n",
    "\n",
    "    for j in i:\n",
    "        for k in i:\n",
    "            new_G.add_edge(k,j,weight = adj_matrix[j][k])\n",
    "\n",
    "    pr = nx.pagerank(new_G)\n",
    "    pr_sorted = sorted(pr.items(), key=operator.itemgetter(1))\n",
    "\n",
    "    print text_lst_init[pr_sorted[-1][0]], '--------',\"\\x1b[31m%f\\x1b[0m\"%(pr_sorted[-1][1]),\"\\n\"\n",
    "    print text_lst_init[pr_sorted[-2][0]],  '--------',\"\\x1b[31m%f\\x1b[0m\"%(pr_sorted[-2][1]),\"\\n\"\n",
    "    \n",
    "    comm_sent.append(text_lst_init[pr_sorted[-1][0]])\n",
    "    comm_sent.append(text_lst_init[pr_sorted[-2][0]])"
   ]
  },
  {
   "cell_type": "markdown",
   "metadata": {},
   "source": [
    "### Summary"
   ]
  },
  {
   "cell_type": "code",
   "execution_count": 39,
   "metadata": {},
   "outputs": [
    {
     "name": "stdout",
     "output_type": "stream",
     "text": [
      "” Even though the Bahujan Left Front’s manifesto too provides for both English and Telugu mediums of instruction, its blueprint is a departure from the current system. Given Telangana’s evident passion for English, it is understandable why the Bahujan Left Front has reversed the dominant norm in India’s electoral politics – of parties competing with each other to accord primacy to the regional languages. As many as 33 primary schools here adopted English as the medium of instruction. These schools offered both Telugu and English as the medium of instruction to students from Class 6, when classes were split into two sections\n"
     ]
    }
   ],
   "source": [
    "print '.'.join(comm_sent)"
   ]
  },
  {
   "cell_type": "markdown",
   "metadata": {},
   "source": [
    "### Import as Library\n",
    "Checking the code for other texts"
   ]
  },
  {
   "cell_type": "code",
   "execution_count": 40,
   "metadata": {},
   "outputs": [],
   "source": [
    "import summary_pa as summary_"
   ]
  },
  {
   "cell_type": "markdown",
   "metadata": {},
   "source": [
    "## Test 1:\n",
    "\n",
    "#### Genre: Biography \n",
    "\n",
    "Link: https://en.wikipedia.org/wiki/Narendra_Modi"
   ]
  },
  {
   "cell_type": "code",
   "execution_count": 41,
   "metadata": {},
   "outputs": [],
   "source": [
    "text = \"Narendra Damodardas Modi pronounced born 17 September 1950) is an Indian politician serving as the 14th and current Prime Minister of India since 2014. He was the Chief Minister of Gujarat from 2001 to 2014, and is the Member of Parliament for Varanasi. Modi is a member of the Bharatiya Janata Party (BJP) and the Rashtriya Swayamsevak Sangh (RSS). Born to a Gujarati family in Vadnagar, Modi helped his father sell tea as a child and later ran his own stall. He was introduced to the RSS at the age of eight, beginning a long association with the organisation. He left home after graduating from school, partly because of an arranged marriage which he rejected. Modi travelled around India for two years and visited a number of religious centres. He returned to Gujarat and moved to Ahmedabad in 1969 or 1970. In 1971 he became a full-time worker for the RSS. During the state of emergency imposed across the country in 1975, Modi was forced to go into hiding. The RSS assigned him to the BJP in 1985, and he held several positions within the party hierarchy until 2001, rising to the rank of General Secretary. Modi was appointed Chief Minister of Gujarat in 2001, due to Keshubhai Patel's failing health and poor public image following the earthquake in Bhuj. Modi was elected to the legislative assembly soon after. His administration has been considered complicit in the 2002 Gujarat riots,[a] or otherwise criticised for its handling of it, however a Supreme Court-appointed Special Investigation Team (SIT) found no evidence to initiate prosecution proceedings.[b] His policies as chief minister, credited with encouraging economic growth, have received praise.[9] His administration has been criticised for failing to significantly improve health, poverty, and education indices in the state. Modi led the BJP in the 2014 general election, which gave the party a majority in the Lok Sabha, the first time a single party had achieved this since 1984. Modi himself was elected to parliament from Varanasi. Since taking office, Modi's administration has tried to raise foreign direct investment in the Indian economy, increased spending on infrastructure, and reduced spending on healthcare and social welfare programmes. Modi has attempted to improve efficiency in the bureaucracy, and centralised power by abolishing the planning commission and replacing it with the NITI Aayog. He has begun a high-profile sanitation campaign, and weakened or abolished environmental and labour laws. Credited with engineering a political realignment towards right-wing politics, Modi remains a figure of controversy domestically and internationally over his Hindu nationalist beliefs and his role during the 2002 Gujarat riots, cited as evidence of an exclusionary social agenda. Narendra Modi was born on 17 September 1950 to a family of grocers in Vadnagar, Mehsana district, Bombay State (present-day Gujarat). He was the third of six children born to Damodardas Mulchand Modi (c.1915 – 1989) and Hiraben Modi (born c.1920).[18] Modi's family belonged to the Modh-Ghanchi-Teli (oil-presser) community, which is categorised as an Other Backward Class by the Indian government. As a child, Modi helped his father sell tea at the Vadnagar railway station and later ran a tea stall with his brother near a bus terminus.[24][25] Modi completed his higher secondary education in Vadnagar in 1967, where a teacher described him as an average student and a keen debater, with interest in theatre.[26] Modi had an early gift for rhetoric in debates, and his teachers and students noted this.[27] Modi preferred playing larger-than-life characters in theatrical productions, which has influenced his political image.[28][29] When eight years old, Modi discovered the Rashtriya Swayamsevak Sangh (RSS) and began attending its local shakhas (training sessions). There, Modi met Lakshmanrao Inamdar, popularly known as Vakil Saheb, who inducted him as a balswayamsevak (junior cadet) for RSS and became his political mentor.[30] While Modi was training with the RSS, he also met Vasant Gajendragadkar and Nathalal Jaghda, Bharatiya Jana Sangh leaders who were founding members of the BJP's Gujarat unit in 1980.[31] Engaged while still a child to Jashodaben, a girl from a family who lived close by, Modi rejected the arranged marriage at the same time he graduated from high school.[32] The resulting familial tensions contributed to his decision to leave home in 1967.[33] Modi spent the ensuing two years travelling across Northern and North-eastern India, though few details of where he went have emerged.[34] In interviews, Modi has described visiting Hindu ashrams founded by Swami Vivekananda: the Belur Math near Kolkata, followed by the Advaita Ashrama in Almora and the Ramakrishna Mission in Rajkot. Modi remained only a short time at each, since he lacked the required college education. Vivekananda has been described as a large influence in Modi's life.[38] In the early summer of 1968, Modi reached the Belur Math but was turned away, after which Modi wandered through Calcutta, West Bengal and Assam, stopping in Siliguri and Guwahati.[39] Modi then went to the Ramakrishna Ashram in Almora, where he was again rejected, before travelling back to Gujarat via Delhi and Rajasthan in 1968–69.[40] Sometime in late 1969 or early 1970, Modi returned to Vadnagar for a brief visit before leaving again for Ahmedabad.[41] There, Modi lived with his uncle, working in the latter's canteen at the Gujarat State Road Transport Corporation.[42][43] In Ahmedabad, Modi renewed his acquaintance with Inamdar, who was based at the Hedgewar Bhavan (RSS headquarters) in the city. After the Indo-Pakistani War of 1971, he stopped working for his uncle and became a full-time pracharak (campaigner) for the RSS,[43] working under Inamdar.[47] Shortly before the war, Modi took part in a non-violent protest against the Indian government in New Delhi, for which he was arrested; this has been cited as a reason for Inamdar electing to mentor him.[47] Many years later Modi would co-author a biography of Inamdar, published in 2001. In 1978 Modi received a Bachelor of Arts degree in political science from School of Open Learning[49] at University of Delhi,[50][51] graduating with a third class.[52] Five years later, in 1983, he received a Master of Arts degree in political science from Gujarat University, as an external distance learning student.\""
   ]
  },
  {
   "cell_type": "code",
   "execution_count": 42,
   "metadata": {},
   "outputs": [],
   "source": [
    "summary, text_init, adj, G_new = summary_.summary(text, 5)"
   ]
  },
  {
   "cell_type": "code",
   "execution_count": 43,
   "metadata": {},
   "outputs": [
    {
     "name": "stdout",
     "output_type": "stream",
     "text": [
      "Narendra Damodardas Modi pronounced born 17 September 1950) is an Indian politician serving as the 14th and current Prime Minister of India since 2014. Modi is a member of the Bharatiya Janata Party (BJP) and the Rashtriya Swayamsevak Sangh (RSS). Born to a Gujarati family in Vadnagar, Modi helped his father sell tea as a child and later ran his own stall. Modi himself was elected to parliament from Varanasi.[47] Many years later Modi would co-author a biography of Inamdar, published in 2001\n"
     ]
    }
   ],
   "source": [
    "print summary"
   ]
  },
  {
   "cell_type": "code",
   "execution_count": 44,
   "metadata": {},
   "outputs": [
    {
     "name": "stdout",
     "output_type": "stream",
     "text": [
      " Modi is a member of the Bharatiya Janata Party (BJP) and the Rashtriya Swayamsevak Sangh (RSS). Born to a Gujarati family in Vadnagar, Modi helped his father sell tea as a child and later ran his own stall. In 1971 he became a full-time worker for the RSS. Narendra Modi was born on 17 September 1950 to a family of grocers in Vadnagar, Mehsana district, Bombay State (present-day Gujarat)\n"
     ]
    }
   ],
   "source": [
    "print summary_.bipartite_community(text_init, adj, G_new)"
   ]
  },
  {
   "cell_type": "code",
   "execution_count": 45,
   "metadata": {},
   "outputs": [
    {
     "name": "stdout",
     "output_type": "stream",
     "text": [
      " He was the Chief Minister of Gujarat from 2001 to 2014, and is the Member of Parliament for Varanasi. Modi is a member of the Bharatiya Janata Party (BJP) and the Rashtriya Swayamsevak Sangh (RSS). Born to a Gujarati family in Vadnagar, Modi helped his father sell tea as a child and later ran his own stall. He was the third of six children born to Damodardas Mulchand Modi (c.[42][43] In Ahmedabad, Modi renewed his acquaintance with Inamdar, who was based at the Hedgewar Bhavan (RSS headquarters) in the city.[47] Many years later Modi would co-author a biography of Inamdar, published in 2001\n"
     ]
    }
   ],
   "source": [
    "print summary_.simple_community(text_init, adj, G_new)"
   ]
  },
  {
   "cell_type": "markdown",
   "metadata": {},
   "source": [
    "## Test 2:\n",
    "\n",
    "#### Genre: History Essay \n",
    "\n",
    "Link: http://www.digitalhistory.uh.edu/teachers/modules/ww2/bibliographical_essay.html"
   ]
  },
  {
   "cell_type": "code",
   "execution_count": 46,
   "metadata": {},
   "outputs": [],
   "source": [
    "text = '''World War II caused greater destruction than any other war in history. The war took the lives of about 17 million soldiers and an even greater number of civilians, who died as a result of bombings, starvation, and deliberate campaigns of mass murder. The war also ushered in the atomic age and was quickly followed by the collapse of the wartime alliance between the United States and the Soviet Union and the beginning of the Cold War. World War I created the conditions that led to World War II. The peace settlement ending the war, which stripped the Central Powers of territory and arms and required them to pay reparations, left lasting bitterness in Germany, Austria, Bulgaria, Hungary, and Turkey. The peace treaty also disappointed two of the victors, Italy and Japan. In addition, the war severely disrupted Europe's economies and helped set the stage for the Great Depression of the 1930s. General histories of the war, which examine the war's origins, military history, and consequences, include John Keegan, The Second World War (1989); C.L. Sulzberger and Stephen E. Ambrose, American Heritage New History of World War II (1997); and Gerhard L. Weinberg, A World at Arms: A Global History of World War II (1994). Valuable reference works include I.C.B. Dear and M.R.D. Foot, eds., The Oxford Companion to the Second World War (1995); John Ellis, World War II: A Statistical Survey (1993); and John Keegan, ed., The Times Atlas to the Second World War (1989). To understand the war's outcome, see Richared Overy, Why the Allies Won (1995). The most thorough and balanced recent history of the American role in World War II is David M. Kennedy, Freedom from Fear: The American People in Depression and War, 1929-1945 (1999), which examines the causes of U.S. involvement in the conflict, wartime diplomacy, military strategy, and the war's economic and social implications. The question of how Japan was able to carry out its successful surprise attack on Pearl Harbor is thoroughly examined in Gordon W. Prange, At Dawn We Slept: The Untold Story of Pearl Harbor (1982). The war's European theater is discussed in Stephen L. McFarland and Wesley Phillips Newton, To Command the Sky: The Battle for Air Superiority Over German, 1942-1944 (1991); Nathan Miller, War at Sea: A Naval History of World War II (1995); and James Polmar and T.B. Allen, World War II (1996). Soldiers' wartime experiences are examined in Gerald F. Linderman, The World Within War: America's Combat Experience in World War II (1997). On the Pacific War, see John Dower, War Without Mercy: Race and Power in the Pacific War (1986), Akira Iriye, Power and Culture: The Japanese-American War, 1941-1945 (1981), and Ronald Spector, Eagle Against the Sun (1985) World War II transformed the American homefront. It jump-started the economy; ended Depression-era unemployment, relocated Americans in unprecedented numbers, and permanently altered the status of women, adolescents, and racial minorities in American life. The war's impact on the homefront is analyzed in William L. O'Neill, A Democracy at War: America's Fight at Home and Abroad in World War II (1993). Oral histories from the war years can be found in Studs Terkel, The Good War (1984). World War II had a dramatic impact on women's lives. The most visible change involved the appearance of large numbers of women in uniform, as more than 250,000 women joined the WACs, the Army Nurses Corps, the WAVES, and the Navy Nurses Corps. The war also challenged the conventional image of female behavior, as \"Rosie the Riveter\" became the popular symbol of women who worked in defense industries. Wartime transformations in women's lives are examined in Susan M. Hartmann, The Homefront and Beyond: Women in the 1940s (1982) and D'Ann Campbell, Women at War with America: Private Lives in a Patriotic Era (1984). World War II affected children and adolescents no less than women. In fact, the word \"teenager\" first appeared during the war. William M. Tuttle, Jr., Daddy's Gone to War: The Second World War in the Lives of America's Children (1993) traces the changes in young peoples' lives. During World War II, African Americans waged battles on two fronts. They helped the country win the war overseas and pressed for equal rights at home. This dual struggle for victory against fascism and discrimination, known as the \"Double V\" campaign, is examined in Neil Wynn, The Afro-American and the Second World War (1976). The internment of 112,000 mainland Japanese Americans, one of the most shameful chapters in American history, is examined in Peter Irons, Justice at War: The Story of the Japanese Internment Cases (1983). A 1942 government report on the Pearl Harbor attack, written by Supreme Court Justice Owen J. Roberts, which claimed without supporting evidence that the Japanese had received support from some Japanese Americans, helped to create a climate of opinion that led to internment. World War II marked the dawn of the atomic age. The development of nuclear weapons is thoroughly examined in Richard Rhodes, The Making of the Atomic Bomb (1986). The decision to drop two atomic bombs on Japan remains one of the most controversial decisions in military history. Martin Sherwin, A World Destroyed: The Atomic Bomb and the Grand Alliance (1975) analyzes the factors that went into this decision.'''"
   ]
  },
  {
   "cell_type": "code",
   "execution_count": 47,
   "metadata": {},
   "outputs": [],
   "source": [
    "summary, text_init, adj, G_new = summary_.summary(text, 5)"
   ]
  },
  {
   "cell_type": "code",
   "execution_count": 48,
   "metadata": {},
   "outputs": [
    {
     "name": "stdout",
     "output_type": "stream",
     "text": [
      " World War I created the conditions that led to World War II. General histories of the war, which examine the war's origins, military history, and consequences, include John Keegan, The Second World War (1989).and John Keegan, ed. Soldiers' wartime experiences are examined in Gerald F. World War II affected children and adolescents no less than women\n"
     ]
    }
   ],
   "source": [
    "print summary"
   ]
  },
  {
   "cell_type": "code",
   "execution_count": 49,
   "metadata": {},
   "outputs": [
    {
     "name": "stdout",
     "output_type": "stream",
     "text": [
      " World War I created the conditions that led to World War II. involvement in the conflict, wartime diplomacy, military strategy, and the war's economic and social implications. It jump-started the economy. World War II affected children and adolescents no less than women\n"
     ]
    }
   ],
   "source": [
    "print summary_.bipartite_community(text_init, adj, G_new)"
   ]
  },
  {
   "cell_type": "code",
   "execution_count": 50,
   "metadata": {},
   "outputs": [
    {
     "name": "stdout",
     "output_type": "stream",
     "text": [
      " Soldiers' wartime experiences are examined in Gerald F. In fact, the word \"teenager\" first appeared during the war\n"
     ]
    }
   ],
   "source": [
    "print summary_.simple_community(text_init, adj, G_new)"
   ]
  },
  {
   "cell_type": "markdown",
   "metadata": {},
   "source": [
    "## Test 3:\n",
    "\n",
    "#### Genre: Public Speech\n",
    "\n",
    "Link: http://www.hitler.org/speeches/05-04-41.html"
   ]
  },
  {
   "cell_type": "code",
   "execution_count": 51,
   "metadata": {},
   "outputs": [],
   "source": [
    "text = '''At a time when only deeds count and words are of little importance, it is\n",
    "  not my intention to appear before you, the elected representatives of the\n",
    "  German people, more often than absolutely necessary. The first time I spoke\n",
    "  to you was at the outbreak of the war when, thanks to the Anglo-French conspiracy\n",
    "  against peace, every attempt at an understanding with Poland, which otherwise\n",
    "  would have been possible, had been frustrated. The most unscrupulous men of the present time had, as they admit today, decided\n",
    "  as early as 1936 to involve the Reich, which in its peaceful work of\n",
    "  reconstruction was becoming too powerful for them, in a new and bloody war\n",
    "  and, if possible, to destroy it. \n",
    "  \n",
    "  They had finally succeeded in finding a State that was prepared for their interests and aims, and that State was\n",
    "  Poland. All my endeavors to come to an understanding with Britain were wrecked by\n",
    "  the determination of a small clique which, whether from motives of hate or\n",
    "  for the sake of material gain, rejected every German proposal for an\n",
    "  understanding due to their resolve, which they never concealed, to resort\n",
    "  to war, whatever happened. The man behind this fanatical and diabolical plan to bring about war at whatever\n",
    "  cost was Mr. Churchill. His associates were the men who now form the British\n",
    "  Government. These endeavors received most powerful support, both openly and secretly,\n",
    "  from the so-called great democracies on both sides of the Atlantic. At a\n",
    "  time when the people were more and more dissatisfied with their deficient\n",
    "  statesmanship, the responsible men over there believed that a successful\n",
    "  war would be the most likely means of solving problems that otherwise would\n",
    "  be beyond their power to solve.\n",
    "  \n",
    "  Behind these men there stood the great international Jewish financial interests\n",
    "  that control the banks and the Stock Exchange as well as the armament industry.\n",
    "  And now, just as before, they scented the opportunity of doing their unsavory\n",
    "  business. And so, just as before, there was no scruple about sacrificing\n",
    "  the blood of the peoples. That was the beginning of this war. A few weeks\n",
    "  later the State that was the third country in Europe, Poland, but had been\n",
    "  reckless enough to allow herself to be used for the financial interests of\n",
    "  these warmongers, was annihilated and destroyed.\n",
    "  \n",
    "  In these circumstances I considered that I owed it to our German people and\n",
    "  countless men and women in the opposite camps, who as individuals were as\n",
    "  decent as they were innocent of blame, to make yet another appeal to the\n",
    "  common sense and the conscience of these statesmen. On October 6, 1939, I\n",
    "  therefore once more publicly stated that Germany had neither demanded nor\n",
    "  intended to demand anything either from Britain or from France, that it was\n",
    "  madness to continue the war and, above all, that the scourge of modern weapons\n",
    "  of warfare, once they were brought into action, would inevitably ravage vast\n",
    "  territories.\n",
    "  \n",
    "  But just as the appeal I made on September 1, 1939, proved to be in vain,\n",
    "  this renewed appeal met with indignant rejection. The British and their Jewish\n",
    "  capitalist backers could find no other explanation for this appeal, which\n",
    "  I had made on humanitarian grounds, than the assumption of weakness on the part\n",
    "  of Germany.\n",
    "  \n",
    "  They assured the people of Britain and France that Germany dreaded the clash\n",
    "  to be expected in the spring of 1940 and was eager to make peace for fear\n",
    "  of the annihilation that would then inevitably result.\n",
    "  \n",
    "  Already at that time the Norwegian Government, misled by the stubborn insistence\n",
    "  of Mr. Churchill's false prophecies, began to toy with the idea of a British\n",
    "  landing on their soil, thereby contributing to the destruction of Germany\n",
    "  by permitting their harbors and Swedish iron ore fields to be seized.\n",
    "  \n",
    "  So sure were Mr. Churchill and Paul Reynaud of the success of their new scheme\n",
    "  that finally, whether from sheer recklessness or perhaps under the influence\n",
    "  of drink, they deemed it no longer necessary to make a secret of their\n",
    "  intentions.\n",
    "  \n",
    "  It was thanks to these two gentlemen's tendency to gossip that the German\n",
    "  Government at that time gained cognizance of the plans being made against\n",
    "  the Reich. A few weeks later this danger to Germany was eliminated. One of\n",
    "  the boldest deeds of arms in the whole history of warfare frustrated the\n",
    "  attack of the British and French armies against the right flank of our line\n",
    "  of defense.\n",
    "  \n",
    "  Immediately after the failure of these plans, increased pressure was exerted\n",
    "  by the British warmongers upon Belgium and Holland. Now that the attack upon\n",
    "  our sources for the supply of iron ore had proved unsuccessful, they aimed\n",
    "  to advance the front to the Rhine by involving the Belgian and Dutch States\n",
    "  and thus to threaten and paralyze our production centers for iron and steel.\n",
    "  \n",
    "  On May 10 of last year perhaps the most memorable struggle in all German\n",
    "  history commenced. The enemy front was broken up in a few days and the stage\n",
    "  was then set for the operation that culminated in the greatest battle of\n",
    "  annihilation in the history of the world. Thus France collapsed, Belgium\n",
    "  and Holland were already occupied, and the battered remnants of the British\n",
    "  expeditionary force were driven from the European continent, leaving their\n",
    "  arms behind.\n",
    "  \n",
    "  On July 19, 1940, I then convened the German Reichstag for the third time\n",
    "  in order to render that great account which you all still remember. The meeting\n",
    "  provided me with the opportunity of expressing the thanks of the nation to\n",
    "  its soldiers in a form suited to the uniqueness of the event. Once again\n",
    "  I seized the opportunity of urging the world to make peace. And what I foresaw\n",
    "  and prophesied at that time happened. My offer of peace was misconstrued\n",
    "  as a symptom of fear and cowardice.\n",
    "  \n",
    "  The European and American warmongers succeeded once again in befogging the\n",
    "  sound common sense of the masses, who can never hope to profit from this\n",
    "  war, by conjuring up false pictures of new hope. Thus, finally, under pressure\n",
    "  of public opinion, as formed by their press, they once more managed to induce\n",
    "  the nation to continue this struggle.\n",
    "  \n",
    "  Even my warnings against night bombings of the civilian population, as advocated\n",
    "  by Mr. Churchill, were interpreted as a sign of German impotence. He, the\n",
    "  most bloodthirsty or amateurish strategist that history has ever known, actually\n",
    "  saw fit to believe that the reserve displayed for months by the German Air\n",
    "  Force could be looked upon only as proof of their incapacity to fly by night.\n",
    "  \n",
    "  So this man for months ordered his paid scribblers to deceive the British\n",
    "  people into believing that the Royal Air Force alone - and no others - was\n",
    "  in a position to wage war in this way, and that thus ways and means had been\n",
    "  found to force the Reich to its knees by the ruthless onslaught of the British\n",
    "  Air Force on the German civilian population in conjunction with the starvation\n",
    "  blockade.\n",
    "  \n",
    "  Again and again I uttered these warnings against this specific type of aerial\n",
    "  warfare, and I did so for over three and a half months. That these warnings\n",
    "  failed to impress Mr. Churchill does not surprise me in the least. For what\n",
    "  does this man care for the lives of others? What does he care for culture\n",
    "  or for architecture? When war broke out he stated clearly that he wanted\n",
    "  to have his war, even though the cities of England might be reduced to ruins.\n",
    "  So now he has got his war.\n",
    "  \n",
    "  My assurances that from a given moment every one of his bombs would be returned\n",
    "  if necessary a hundredfold failed to induce this man to consider even for\n",
    "  an instant the criminal nature of his action. He professes not to be in the\n",
    "  least depressed and he even assures us that the British people, too, after\n",
    "  such bombing raids, greeted him with a joyous serenity, causing him to return\n",
    "  to London refreshed by his visits to the stricken areas.\n",
    "  \n",
    "  It is possible that this sight strengthened Mr. Churchill in his firm\n",
    "  determination to continue the war in this way, and we are no less determined\n",
    "  to continue to retaliate, if necessary, a hundred bombs for every one of\n",
    "  his and to go on doing so until the British nation at last gets rid of this\n",
    "  criminal and his methods.\n",
    "  \n",
    "  The appeal to forsake me, made to the German nation by this fool and his\n",
    "  satellites on May Day, of all days, are only to be explained either as\n",
    "  symptomatic of a paralytic disease or of a drunkard's ravings. His abnormal\n",
    "  state of mind also gave birth to a decision to transform the Balkans into\n",
    "  a theater of war.\n",
    "  \n",
    "  For over five years this man has been chasing around Europe like a madman\n",
    "  in search of something that he could set on fire. Unfortunately, he again\n",
    "  and again finds hirelings who open the gates of their country to this\n",
    "  international incendiary.\n",
    "  \n",
    "  After he had succeeded in the course of the past winter in persuading the\n",
    "  British people by a wave of false assertions and pretensions that the German\n",
    "  Reich, exhausted by the campaign in the preceding months, was completely\n",
    "  spent, he saw himself obliged, in order to prevent an awakening of the truth,\n",
    "  to create a fresh conflagration in Europe.\n",
    "  \n",
    "  In so doing he returned to the project that had been in his mind as early\n",
    "  as the autumn of 1939 and the spring of 1940. It was thought possible at\n",
    "  the time to mobilize about 100 divisions in Britain's interest.\n",
    "  \n",
    "  The sudden collapse which we witnessed in May and June of the past year forced\n",
    "  these plans to be abandoned for the moment. But by the autumn of last year\n",
    "  Mr. Churchill began to tackle this problem once again.\n",
    "  \n",
    "  In the meantime, however, certain difficulties had arisen. As a result, Rumania,\n",
    "  owing to internal changes, dropped out of England's political scheme.\n",
    "  \n",
    "  In dealing with these conditions, I shall begin by giving you a brief outline\n",
    "  of the aims of Germany's policy in the Balkans. As in the past, the Reich\n",
    "  never pursued any territorial or any other selfish political interest in\n",
    "  the Balkans. In other words, the Reich has never taken the slightest interest\n",
    "  in territorial problems and internal conditions in these States for any selfish\n",
    "  reason whatsoever.\n",
    "  \n",
    "  On the other hand, the Reich has always endeavored to build up and to strengthen\n",
    "  close economic ties with these States in particular. This, however, not only\n",
    "  served the interests of the Reich but equally the interests of these countries\n",
    "  themselves.\n",
    "  \n",
    "  If any two national economic systems ever effectively complemented one another,\n",
    "  that is especially the case regarding the Balkan States and Germany. Germany\n",
    "  is an industrial country and requires foodstuffs and raw materials. The Balkan\n",
    "  States are agrarian countries and are short of these raw materials. At the\n",
    "  same time, they require industrial products.\n",
    "  \n",
    "  It was therefore hardly surprising when Germany thus became the main business\n",
    "  partner of the Balkan States. Nor was this in Germany's interest alone, but\n",
    "  also in that of the Balkan peoples themselves.\n",
    "  \n",
    "  AND NONE BUT OUR JEW-RIDDEN DEMOCRACIES, WHICH CAN THINK ONLY IN TERMS OF\n",
    "  CAPITALISM, CAN MAINTAIN THAT IF ONE STATE DELIVERS MACHINERY TO ANOTHER\n",
    "  STATE IT THEREBY DOMINATES THAT OTHER STATE. IN ACTUAL FACT SUCH DOMINATION,\n",
    "  IF IT OCCURS, CAN BE ONLY A RECIPROCAL DOMINATION.\n",
    "  \n",
    "  It is presumably easier to be without machinery than without food and raw\n",
    "  materials. Consequently, the partner in need of raw material and foodstuffs\n",
    "  would appear to be more tied down than the recipient of industrial products.\n",
    "  IN THIS TRANSACTION THERE WAS NEITHER CONQUEROR NOR CONQUERED. THERE WERE\n",
    "  ONLY PARTNERS.\n",
    "  \n",
    "  The German Reich of the National Socialist revolution has prided itself on\n",
    "  being a fair and decent partner, offering in exchange high-quality products\n",
    "  instead of worthless democratic paper money. For these reasons the Reich\n",
    "  was interested in only one thing if, indeed, there was any question of political\n",
    "  interest, namely, in seeing that internally the business partner was firmly\n",
    "  established on a sound and healthy basis.\n",
    "  \n",
    "  THE APPLICATION OF THIS IDEA LED IN FACT NOT ONLY TO INCREASING PROSPERITY\n",
    "  IN THESE COUNTRIES BUT ALSO TO THE BEGINNING OF MUTUAL CONFIDENCE. All the\n",
    "  greater, however, became the endeavor of that world incendiary, Churchill,\n",
    "  to put an end to this peaceful development and by shamelessly imposing upon\n",
    "  these States utterly worthless British guarantees and promises of assistance\n",
    "  to introduce into this peaceable European territory elements of unrest,\n",
    "  uncertainty, distrust and, finally, conflict.\n",
    "  \n",
    "  Originally, Rumania was first won over by these guarantees and later, of\n",
    "  course, Greece. It has, meanwhile, probably been sufficiently demonstrated\n",
    "  that he had absolutely no power of any kind to provide real help and that\n",
    "  these guarantees were merely intended to rope these States in to follow the\n",
    "  dangerous trend of filthy British politics.\n",
    "  \n",
    "  RUMANIA HAS HAD TO PAY BITTERLY FOR THE GUARANTEES, WHICH WERE CALCULATED\n",
    "  TO ESTRANGE HER FROM THE AXIS POWERS.\n",
    "  \n",
    "  Greece, which least of all required such a guarantee, was offered her share\n",
    "  to link her destiny to that of the country that provided her King with cash\n",
    "  and orders.\n",
    "  \n",
    "  EVEN TODAY I FEEL THAT I MUST, AS I BELIEVE IN THE INTEREST OF HISTORICAL\n",
    "  ACCURACY, DISTINGUISH BETWEEN THE GREEK PEOPLE AND THAT THIN TOP LAYER OF\n",
    "  CORRUPT LEADERS WHO, INSPIRED BY A KING WHO HAD NO EYES FOR THE DUTY OF TRUE\n",
    "  LEADERSHIP, PREFERRED INSTEAD TO FURTHER THE AIMS OF BRITISH WAR POLITICS.\n",
    "  To me this is a subject of profound regret.\n",
    "  \n",
    "  Germany, with the faint hope of still being able to contribute in some way\n",
    "  to a solution of the problem, had not severed relations with Greece. But\n",
    "  even then I was bound in duty to point out before the whole world that we\n",
    "  would not tacitly allow a revival of the old Salonika scheme of the Great\n",
    "  War.\n",
    "  \n",
    "  Unfortunately, my warning was not taken seriously enough. That we were\n",
    "  determined, if the British tried to gain another foothold in Europe, to drive\n",
    "  them back into the sea was not taken seriously enough.\n",
    "  \n",
    "  The result was that the British began in an increasing degree to establish\n",
    "  bases for the formation of a new Salonika army. They began by laying out\n",
    "  airdromes and by establishing the necessary ground organization in the firm\n",
    "  conviction that the occupation of the airdromes themselves could afterward\n",
    "  be carried out very speedily.\n",
    "  \n",
    "  Finally a continuous stream of transports brought equipment for an army which,\n",
    "  according to Mr. Churchill's idea and plans, was to be landed in Greece.\n",
    "  As I have said, already we were aware of this. For months we watched this\n",
    "  entire strange procedure with attention, if with restraint.\n",
    "  \n",
    "  The reverses suffered by the Italian Army in North Africa, owing to a certain\n",
    "  material inferiority of their tanks and anti-tank guns, finally led Mr. Churchill\n",
    "  to believe that the time was ripe to transfer the theater of war from Libya\n",
    "  to Greece. He ordered the transport of the remaining tanks and of the infantry\n",
    "  division, composed mainly of Anzacs, and was convinced that he could now\n",
    "  complete his scheme, which was to set the Balkans aflame.\n",
    "  \n",
    "  THUS DID MR. CHURCHILL COMMIT ONE OF THE GREATEST STRATEGIC BLUNDERS OF THIS\n",
    "  WAR. As soon as there could be no further doubt regarding Britain's intentions\n",
    "  of gaining a foothold in the Balkans, I took the necessary steps.\n",
    "  \n",
    "  Germany, by keeping pace with these moves, assembled the necessary forces\n",
    "  for the purpose of counteracting any possible tricks of that gentleman. In\n",
    "  this connection I must state categorically that this action was not directed\n",
    "  against Greece.\n",
    "  \n",
    "  The Duce did not even request me to place one single German division at his\n",
    "  disposal for this purpose. He was convinced that with the advent of good\n",
    "  weather his stand against Greece would have been brought to a successful\n",
    "  conclusion. I was of the same opinion.\n",
    "  \n",
    "  The concentration of German forces was therefore not made for the purpose\n",
    "  of assisting the Italians against Greece. It was a precautionary measure\n",
    "  against the British attempt under cover of the clamor caused by the Italo-Greek\n",
    "  war to intrench themselves secretly in the Balkans in order to force the\n",
    "  issue from that quarter on the model of the Salonika army during the World\n",
    "  War, and, above all, to draw other elements into the whirlpool.\n",
    "  \n",
    "  This hope was founded principally on two States, namely, Turkey and Yugoslavia.\n",
    "  But with these very States I have striven during the years since I came into\n",
    "  power to establish close co-operation.\n",
    "  \n",
    "  The World War actually started from Belgrade. Nevertheless, the German people,\n",
    "  who are by nature so ready to forgive and forget, felt no animosity toward\n",
    "  that country. Turkey was our ally in the World War. The unfortunate outcome\n",
    "  of that struggle weighed upon that country just as heavily as it did upon\n",
    "  us.\n",
    "  \n",
    "  The great genius who created the new Turkey was the first to set a wonderful\n",
    "  example of recovery to our allies whom fortune had at that time deserted\n",
    "  and whom fate had dealt so terrible a blow. Whereas Turkey, thanks to the\n",
    "  practical attitude of her leaders, preserved her independence in carrying\n",
    "  out her own resolutions, Yugolsavia fell a victim to British intrigue.\n",
    "  \n",
    "  Most of you, especially my old Party comrades among you, know what efforts\n",
    "  I have made to establish a straightforward understanding and indeed friendly\n",
    "  relations between Germany and Yugoslavia. In pursuance of this aim Herr von\n",
    "  Ribbentrop, our Minister of Foreign Affairs, submitted to the Yugoslav Government\n",
    "  proposals that were so outstanding and so fair that at least even the Yugoslav\n",
    "  State of that time seemed to become increasingly eager for such close\n",
    "  co-operation.\n",
    "  \n",
    "  Germany had no intention of starting a war in the Balkans. On the contrary,\n",
    "  it was our honest intention as far as possible to contribute to a settlement\n",
    "  of the conflict with Greece by means that would be tolerable to the legitimate\n",
    "  wishes of Italy.\n",
    "  \n",
    "  The Duce not only consented to but lent his full support to our efforts to\n",
    "  bring Yugoslavia into a close community of interests with our peace aims.\n",
    "  Thus it finally became possible to induce the Yugoslav Government to join\n",
    "  the Threepower Pact, which made no demands whatever on Yugoslavia but only\n",
    "  offered that country advantages.\n",
    "  \n",
    "  Thus on March 26 of this year a pact was signed in Vienna that offered the\n",
    "  Yugoslav State the greatest future conceivable and could have assured peace\n",
    "  for the Balkans. Believe me, gentlemen, on that day I left the beautiful\n",
    "  city of the Danube truly happy not only because it seemed as though almost\n",
    "  eight years of foreign policies had received their reward but also because\n",
    "  I believed that perhaps at the last moment German intervention in the Balkans\n",
    "  might not be necessary.\n",
    "  \n",
    "  We were all stunned by the news of that coup, carried through by a handful\n",
    "  of bribed conspirators who had brought about the event that caused the British\n",
    "  Prime Minister to declare in joyous words that at last he had something good\n",
    "  to report.\n",
    "  \n",
    "  YOU WILL SURELY UNDERSTAND, GENTLEMEN, THAT WHEN I HEARD THIS I AT ONCE GAVE\n",
    "  ORDERS TO ATTACK YUGOSLAVIA. To treat the, German Reich in this way is\n",
    "  impossible. One cannot spent years in concluding a treaty that is in the\n",
    "  interest of the other party merely to discover that this treaty has not only\n",
    "  been broken overnight but also that it has been answered by the insulting\n",
    "  of the representative of the German Reich, by the threatening of his military\n",
    "  attache, by the injuring of the aide de camp of this attache, by the maltreating\n",
    "  of numerous other Germans, by demolishing property, by laying waste the homes\n",
    "  of German citizens and by terrorizing.\n",
    "  \n",
    "  GOD KNOWS THAT I WANTED PEACE. But I can do nothing but protect the interests\n",
    "  of the Reich with those means which, thank God, are at our disposal. I made\n",
    "  my decision at that moment all the more calmly because I knew that I was\n",
    "  in accord with Bulgaria, who had always remained unshaken in her loyalty\n",
    "  to the German Reich, and with the equally justified indignation of Hungary.\n",
    "  \n",
    "  Both of our old allies in the World War were bound to regard this action\n",
    "  as a provocation emanating from the State that once before had set the whole\n",
    "  of Europe on fire and had been guilty of the indescribable sufferings that\n",
    "  befell Germany, Hungary, and Bulgaria in consequence.\n",
    "  \n",
    "  The general directions of operations issued by me through the Supreme Command\n",
    "  of the German forces on March 27 confronted the Army and the Air Force with\n",
    "  a formidable task. By a mere turn of the hand an additional campaign had\n",
    "  to be prepared. Units that had already arrived had to be moved about. Supplies\n",
    "  of armaments had to be assured and the air force had to take over numerous\n",
    "  improvised airports part of which were still under water.\n",
    "  \n",
    "  WITHOUT THE SYMPATHETIC ASSISTANCE OF HUNGARY AND THE EXTREMELY LOYAL ATTITUDE\n",
    "  OF RUMANIA IT WOULD HAVE BEEN VERY DIFFICULT TO CARRY OUT MY ORDERS IN THE\n",
    "  SHORT TIME ENVISAGED.\n",
    "  \n",
    "  I fixed April 6 as the day on which the attack was to begin. The main plan\n",
    "  of operation was: First, to proceed with an army coming from Bulgaria against\n",
    "  Thrace in Greece in the direction of the Aegean Sea.\n",
    "  \n",
    "  The main striking strength of this army lay in its right wing, which was\n",
    "  to force a passage through to Salonika by using mountain divisions and a\n",
    "  division of tanks; second, to thrust forward with a second army with the\n",
    "  object of establishing connection as speedily as possible with the Italian\n",
    "  forces advancing from Albania. These two operations were to begin on April\n",
    "  6.\n",
    "  \n",
    "  Third, a further operation, beginning on the eighth, provided for the\n",
    "  break-through of an army from Bulgaria with the object of reaching the\n",
    "  neighborhood of Belgrade. In conjunction with this, a German army corps was\n",
    "  to occupy the Banat on the tenth.\n",
    "  \n",
    "  In connection with these operations general agreement had been made with\n",
    "  our allies, Italy and Hungary. Agreements as to co-operation had also been\n",
    "  reached between the two air forces. The command of the German Armies operating\n",
    "  against Macedonia and Greece was placed in the hands of Field Marshal von\n",
    "  List, who had already particularly distinguished himself in the previous\n",
    "  campaigns. Once more and under the most exacting conditions he carried out\n",
    "  the task confronting him in truly superior fashion.\n",
    "  \n",
    "  The forces advancing against Yugoslavia from the southwest and from Hungary\n",
    "  were commanded by Col. Gen. von Weick. He, too, in a very short time with\n",
    "  the forces under his command reached his objective.\n",
    "  \n",
    "  The Army and SS detachments operating under Field Marshal von Brauchitsch,\n",
    "  as Commander in Chief, and the Chief of the General Staff, Col. Gen. Halder,\n",
    "  forced the Greek Army in Thrace to capitulate after only five days, established\n",
    "  contact with the Italian forces advancing from Albania, occupied Salonika,\n",
    "  and thus generally prepared the way for the difficult and glorious break-through\n",
    "  via Larissa to Athens.\n",
    "  \n",
    "  These operations were crowned by the occupation of the Peloponnesus and numerous\n",
    "  Greek islands. A detailed appreciation of the achievements will be given\n",
    "  by the German High Command.\n",
    "  \n",
    "  The Air Force under the personal command of Reich Marshal Goering was divided\n",
    "  into two main groups, commanded by Col. Gen. Loehr and General von Richthofen.\n",
    "  It was their task, first, to shatter the enemy air force and to smash its\n",
    "  ground organization; second, to attack every important military objective\n",
    "  in the conspirators' headquarters at Belgrade, thus eliminating it from the\n",
    "  very outset; third, by every manner of active co-operation everywhere with\n",
    "  the fighting German troops to break the enemy's resistance, to impede the\n",
    "  enemy's flight, to prevent as far as possible his embarkation.\n",
    "  \n",
    "  The German armed forces have truly surpassed themselves in this campaign.\n",
    "  There is only one way of characterizing that campaign:\n",
    "  \n",
    "  Nothing is impossible for the German soldier. Historical justice, however,\n",
    "  obliges me to say that of the opponents that have taken up arms against us,\n",
    "  MOST PARTICULARLY THE GREEK SOLDIERS, HAVE FOUGHT WITH THE GREATEST BRAVERY\n",
    "  AND CONTEMPT OF DEATH. They only capitulated when further resistance became\n",
    "  impossible and therefore useless.\n",
    "  \n",
    "  But I am now compelled to speak of the enemy who is the main cause of this\n",
    "  conflict. As a German and as a soldier I consider it unworthy ever to revile\n",
    "  a fallen enemy. But it seems to me to be necessary to defend the truth from\n",
    "  the wild exaggerations of a man who as a soldier is a bad politician and\n",
    "  as a politician is an equally bad soldier.\n",
    "  \n",
    "  Mr. Churchill, who started this struggle, is endeavoring, as with regard\n",
    "  to Norway or Dunkerque, to say something that sooner or later might perhaps\n",
    "  he twisted around to resemble success. I do not consider that honorable but\n",
    "  in his case it is understandable.\n",
    "  \n",
    "  The gift Mr. Churchill possesses is the gift to lie with a pious expression\n",
    "  on his face and to distort the truth until finally glorious victories are\n",
    "  made out of the most terrible defeats.\n",
    "  \n",
    "  A British Army of 60,000 to 70,000 men landed in Greece. Before the catastrophe\n",
    "  the same man maintained, moreover, that it consisted of 240,000 men. The\n",
    "  object of this army was to attack Germany from the south, inflict a defeat\n",
    "  upon her, and from this point as in 1918 turn the tide of the war.\n",
    "  \n",
    "  I prophesied more correctly than Mr. Churchill in my last speech, in which\n",
    "  I announced that wherever the British might set foot on the Continent they\n",
    "  would be attacked by us and driven into the sea.\n",
    "  \n",
    "  Now, with his brazen effrontery, he asserts that this war has cost us 75,000\n",
    "  lives. He causes his presumably not overintelligent fellow-countrymen to\n",
    "  be informed by one of his paid creatures that the British, after having slain\n",
    "  enormous masses of Germans, finally turned away from sheer abhorrence of\n",
    "  the slaughter and, strictly speaking, withdrew for this reason alone.\n",
    "  \n",
    "  I will now present to you the results of this campaign in a few short figures.\n",
    "  In the course of the operations against Yugoslavia there were the following\n",
    "  numbers of purely Serbian prisoners, leaving out soldiers of German origin\n",
    "  and some other groups, 6,198 officers, 313,864 men.\n",
    "  \n",
    "  The number of Greek prisoners, 8,000 officers and 210,000 men, has not the\n",
    "  same significance. The number of Englishmen, New Zealanders and Australians\n",
    "  taken prisoner exceeds 9,000 officers and men.\n",
    "  \n",
    "  The German share of the booty alone, according to the estimates at present\n",
    "  available, amounts to more than half a million rifles, far more than 1,000\n",
    "  guns, many thousand machine-guns and anti-aircraft machine-guns, vehicles,\n",
    "  and large amounts of ammunition . . . .\n",
    "  \n",
    "  The losses of the German Army and the German Air Force as well as those of\n",
    "  the SS troops in this campaign are the smallest that we have ever suffered\n",
    "  so far. The German armed forces have in fighting against Yugoslavia and Greece\n",
    "  as well as against the British in Greece lost:\n",
    "  \n",
    "  Army and SS Troops - Fifty-seven officers and 1,042 noncommissioned officers\n",
    "  and men killed, 181 officers and 3,571 noncommissioned officers and men wounded,\n",
    "  and 13 officers and 372 noncommissioned officers and men missing.\n",
    "  \n",
    "  Air Force - Ten officers and 42 noncommissioned officers and men killed and\n",
    "  36 officers and 104 noncommissioned officers and men missing.\n",
    "  \n",
    "  Once more I can only repeat that we feel the hardship of the sacrifice borne\n",
    "  by the families concerned. The entire German nation expresses to them its\n",
    "  heartfelt gratitude.\n",
    "  \n",
    "  Taking the measures as a whole, however, the losses suffered are so small\n",
    "  that they constitute supreme justification, first, for the planning and timing\n",
    "  of this campaign; second for the conduct of operations; third, for the manner\n",
    "  in which they were carried through.\n",
    "  \n",
    "  The training of our officers is excellent beyond comparison The high standard\n",
    "  of efficiency of our soldiers, the superiority of our equipment, the quality\n",
    "  of our munitions and the indomitable courage of all ranks have combined to\n",
    "  lead at such small sacrifice to a success of truly decisive historical\n",
    "  importance.\n",
    "  \n",
    "  Churchill, one of the most hopeless dabblers in.strategy, thus managed to\n",
    "  lose two theaters of war at one single blow. The fact that this man, who\n",
    "  in any other country would be court-martialed, gained fresh admiration as\n",
    "  Prime Minister cannot be construed as an expression of magnanimity such as\n",
    "  was accorded by Roman senators to generals honorably defeated in battle.\n",
    "  It is merely proof of that perpetual blindness with which the gods afflict\n",
    "  those whom they are about to destroy.\n",
    "  \n",
    "  The consequences of this campaign are extraordinary. In view of the fact\n",
    "  that a small set of conspirators in Belgrade again were able to foment trouble\n",
    "  in the service of extracontinental interests, the radical elimination of\n",
    "  this danger means the removal of an element of tension for the whole of Europe.\n",
    "  \n",
    "  The Danube as an important waterway is thus safeguarded against any further\n",
    "  act of sabotage. Traffic has been resumed in full.\n",
    "  \n",
    "  Apart from the modest correction of its frontiers, which were infringed as\n",
    "  a result of the outcome of the World War, the Reich has no special territorial\n",
    "  interests in these parts. As far as politics are concerned we are merely\n",
    "  interested in safeguarding peace in this region, while in the realm of economics\n",
    "  we wish to see an order that will allow the production of goods to be developed\n",
    "  and the exchange of products to be resumed in the interests of all.\n",
    "  \n",
    "  It is, however, only in accordance with supreme justice if those interests\n",
    "  are also taken into account that are founded upon ethnographical, historical,\n",
    "  or economic conditions.\n",
    "  \n",
    "  I can assure you that I look into the future with perfect tranquillity and\n",
    "  great confidence. The German Reich and its allies represent power, military,\n",
    "  economic and, above all, in moral respects, which is superior to any possible\n",
    "  coalition in the world. The German armed forces will always do their part\n",
    "  whenever it may be necessary. The confidence of the German people will always\n",
    "  accompany their soldiers.'''"
   ]
  },
  {
   "cell_type": "code",
   "execution_count": 52,
   "metadata": {},
   "outputs": [],
   "source": [
    "summary, text_init, adj, G_new = summary_.summary(text, 7)"
   ]
  },
  {
   "cell_type": "code",
   "execution_count": 53,
   "metadata": {},
   "outputs": [
    {
     "name": "stdout",
     "output_type": "stream",
     "text": [
      " The first time I spoke\n",
      "  to you was at the outbreak of the war when, thanks to the Anglo-French conspiracy\n",
      "  against peace, every attempt at an understanding with Poland, which otherwise\n",
      "  would have been possible, had been frustrated. Churchill.\n",
      "  \n",
      "  So this man for months ordered his paid scribblers to deceive the British\n",
      "  people into believing that the Royal Air Force alone - and no others - was\n",
      "  in a position to wage war in this way, and that thus ways and means had been\n",
      "  found to force the Reich to its knees by the ruthless onslaught of the British\n",
      "  Air Force on the German civilian population in conjunction with the starvation\n",
      "  blockade.\n",
      "  \n",
      "  If any two national economic systems ever effectively complemented one another,\n",
      "  that is especially the case regarding the Balkan States and Germany. Believe me, gentlemen, on that day I left the beautiful\n",
      "  city of the Danube truly happy not only because it seemed as though almost\n",
      "  eight years of foreign policies had received their reward but also because\n",
      "  I believed that perhaps at the last moment German intervention in the Balkans\n",
      "  might not be necessary.\n",
      "  \n",
      "  But I am now compelled to speak of the enemy who is the main cause of this\n",
      "  conflict. The number of Englishmen, New Zealanders and Australians\n",
      "  taken prisoner exceeds 9,000 officers and men\n"
     ]
    }
   ],
   "source": [
    "print summary"
   ]
  },
  {
   "cell_type": "code",
   "execution_count": 54,
   "metadata": {},
   "outputs": [
    {
     "name": "stdout",
     "output_type": "stream",
     "text": [
      "\n",
      "  \n",
      "  THUS DID MR.\n",
      "  \n",
      "  The general directions of operations issued by me through the Supreme Command\n",
      "  of the German forces on March 27 confronted the Army and the Air Force with\n",
      "  a formidable task.\n",
      "  \n",
      "  But I am now compelled to speak of the enemy who is the main cause of this\n",
      "  conflict.\n",
      "  \n",
      "  The number of Greek prisoners, 8,000 officers and 210,000 men, has not the\n",
      "  same significance\n"
     ]
    }
   ],
   "source": [
    "print summary_.bipartite_community(text_init, adj, G_new)"
   ]
  },
  {
   "cell_type": "code",
   "execution_count": 55,
   "metadata": {
    "scrolled": false
   },
   "outputs": [
    {
     "name": "stdout",
     "output_type": "stream",
     "text": [
      " \n",
      "  \n",
      "  They had finally succeeded in finding a State that was prepared for their interests and aims, and that State was\n",
      "  Poland. That was the beginning of this war. As in the past, the Reich\n",
      "  never pursued any territorial or any other selfish political interest in\n",
      "  the Balkans. This, however, not only\n",
      "  served the interests of the Reich but equally the interests of these countries\n",
      "  themselves. These two operations were to begin on April\n",
      "  6. A detailed appreciation of the achievements will be given\n",
      "  by the German High Command.\n",
      "  \n",
      "  But I am now compelled to speak of the enemy who is the main cause of this\n",
      "  conflict.\n",
      "  \n",
      "  The number of Greek prisoners, 8,000 officers and 210,000 men, has not the\n",
      "  same significance. The German armed forces have in fighting against Yugoslavia and Greece\n",
      "  as well as against the British in Greece lost:\n",
      "  \n",
      "  Army and SS Troops - Fifty-seven officers and 1,042 noncommissioned officers\n",
      "  and men killed, 181 officers and 3,571 noncommissioned officers and men wounded,\n",
      "  and 13 officers and 372 noncommissioned officers and men missing\n"
     ]
    }
   ],
   "source": [
    "print summary_.simple_community(text_init, adj, G_new)"
   ]
  },
  {
   "cell_type": "markdown",
   "metadata": {},
   "source": [
    "## Test 4:\n",
    "\n",
    "#### Genre: Short Story\n",
    "\n",
    "Link: http://www.kidsgen.com/stories/panchatantra/the-clever-jackal.htm"
   ]
  },
  {
   "cell_type": "code",
   "execution_count": 56,
   "metadata": {},
   "outputs": [],
   "source": [
    "text = '''Once upon a time, there lived a jackal in a dense forest. His name was Mahachaturaka. He was very clever. One day, while he was wandering in search of food, he came across a dead elephant. He wanted to eat its flesh, but his teeth were not strong enough to cut through the tough hide of the elephant. So, he waited patiently for someone to come around. In the meantime, a lion came there. The jackal said to him, \"Your Majesty, please have a taste of the elephant. I have been guarding it for you only.\" \"I eat only fresh animals, not the stale ones,\" said the lion and went on his way. The jackal became happy. He had still the full dead body of the elephant intact in his possession. Next, there came a tiger. The jackal became afraid. He thought to himself that the tiger might eat up the whole elephant. So, he said to the tiger, \"A hunter has killed this elephant with a poisoned arrow. Whosoever eats its flesh would die due to food poisoning. I'm guarding it to save the life of others.\" The tiger got frightened and soon disappeared into the dense forest. As soon as the tiger went away there came two vultures. They sat over the dead body of the elephant. The clever jackal did not want them to eat the elephant. So he said to them, \"I've hunted this elephant and have sold its skin to two hunters. If they ever see you eating the elephant, they'll kill both of you.\" The vultures became frightened and immediately flew away. But the jackal still looked for someone who would cut the tough hide of the elephant to make it easy for him to eat its flesh. At last, there came a leopard. The jackal knew that the leopard had a sharp teeth. He could cut through the elephant's hide. He said to him, \"Friend, you seem to be hungry. Why not take a bite on the elephant. It has been killed by a lion. He has gone home to bring his family. When I see him arriving, I'll make a warning sign and then you can run away.\" The leopard agreed. He immediately sat down to cut open the elephant's hide. As soon as the jackal saw that leopard had cut through the elephant's hide and was about to eat its flesh, he shouted, \"There comes the lion.\" The leopard sprang up on its feet and quickly disappeared into the forest. The jackal happily enjoyed the flesh of the elephant for many days together.'''"
   ]
  },
  {
   "cell_type": "code",
   "execution_count": 57,
   "metadata": {},
   "outputs": [],
   "source": [
    "summary, text_init, adj, G_new = summary_.summary(text, 7)"
   ]
  },
  {
   "cell_type": "code",
   "execution_count": 58,
   "metadata": {},
   "outputs": [
    {
     "name": "stdout",
     "output_type": "stream",
     "text": [
      " So, he said to the tiger, \"A hunter has killed this elephant with a poisoned arrow. I'm guarding it to save the life of others. As soon as the tiger went away there came two vultures. They sat over the dead body of the elephant. The clever jackal did not want them to eat the elephant. But the jackal still looked for someone who would cut the tough hide of the elephant to make it easy for him to eat its flesh. As soon as the jackal saw that leopard had cut through the elephant's hide and was about to eat its flesh, he shouted, \"There comes the lion\n"
     ]
    }
   ],
   "source": [
    "print summary"
   ]
  },
  {
   "cell_type": "code",
   "execution_count": 59,
   "metadata": {},
   "outputs": [
    {
     "name": "stdout",
     "output_type": "stream",
     "text": [
      " In the meantime, a lion came there. As soon as the tiger went away there came two vultures. The clever jackal did not want them to eat the elephant. As soon as the jackal saw that leopard had cut through the elephant's hide and was about to eat its flesh, he shouted, \"There comes the lion\n"
     ]
    }
   ],
   "source": [
    "print summary_.bipartite_community(text_init, adj, G_new)"
   ]
  },
  {
   "cell_type": "code",
   "execution_count": 60,
   "metadata": {},
   "outputs": [
    {
     "name": "stdout",
     "output_type": "stream",
     "text": [
      "\" The tiger got frightened and soon disappeared into the dense forest. As soon as the jackal saw that leopard had cut through the elephant's hide and was about to eat its flesh, he shouted, \"There comes the lion\n"
     ]
    }
   ],
   "source": [
    "print summary_.simple_community(text_init, adj, G_new)"
   ]
  }
 ],
 "metadata": {
  "kernelspec": {
   "display_name": "Python 2",
   "language": "python",
   "name": "python2"
  },
  "language_info": {
   "codemirror_mode": {
    "name": "ipython",
    "version": 2
   },
   "file_extension": ".py",
   "mimetype": "text/x-python",
   "name": "python",
   "nbconvert_exporter": "python",
   "pygments_lexer": "ipython2",
   "version": "2.7.14"
  }
 },
 "nbformat": 4,
 "nbformat_minor": 2
}
